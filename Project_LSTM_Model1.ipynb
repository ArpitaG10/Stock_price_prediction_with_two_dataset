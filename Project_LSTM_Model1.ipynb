{
 "cells": [
  {
   "cell_type": "code",
   "execution_count": 1,
   "metadata": {
    "id": "mq4b1W5Y0gn3"
   },
   "outputs": [],
   "source": [
    "import numpy as np # linear algebra\n",
    "import pandas as pd # data processing, CSV file I/O (e.g. pd.read_csv)\n",
    "import os\n",
    "import matplotlib.pyplot as plt\n",
    "plt.style.use(\"fivethirtyeight\")\n",
    "\n",
    "from keras.models import Sequential\n",
    "from keras.layers import Dense, Dropout, LSTM, GRU, Bidirectional\n",
    "from keras.optimizers import SGD\n",
    "\n",
    "from sklearn.preprocessing import MinMaxScaler\n",
    "from sklearn.metrics import mean_squared_error\n",
    "\n",
    "import math\n",
    "import warnings\n",
    "warnings.filterwarnings(\"ignore\")"
   ]
  },
  {
   "cell_type": "markdown",
   "metadata": {
    "id": "owAqHE-6zgxi"
   },
   "source": [
    "Model **using MSFT dataset(1 day interval)** **bold text**\n",
    "\n",
    "---\n",
    "\n"
   ]
  },
  {
   "cell_type": "code",
   "execution_count": 2,
   "metadata": {
    "colab": {
     "base_uri": "https://localhost:8080/"
    },
    "id": "H3-l-iFE2Q6l",
    "outputId": "01da549c-7af8-43f8-e09f-a788293ff4b2"
   },
   "outputs": [
    {
     "data": {
      "text/plain": [
       "(8857, 6)"
      ]
     },
     "execution_count": 2,
     "metadata": {},
     "output_type": "execute_result"
    }
   ],
   "source": [
    "df = pd.read_csv(\"MSFT.csv\", index_col='Date', parse_dates=[\"Date\"])\n",
    "df.shape"
   ]
  },
  {
   "cell_type": "code",
   "execution_count": 3,
   "metadata": {
    "colab": {
     "base_uri": "https://localhost:8080/",
     "height": 234
    },
    "id": "fLJ2Spax2Uts",
    "outputId": "65b959ca-65c2-4f2b-c07f-c8c464d747c1"
   },
   "outputs": [
    {
     "data": {
      "text/html": [
       "<div>\n",
       "<style scoped>\n",
       "    .dataframe tbody tr th:only-of-type {\n",
       "        vertical-align: middle;\n",
       "    }\n",
       "\n",
       "    .dataframe tbody tr th {\n",
       "        vertical-align: top;\n",
       "    }\n",
       "\n",
       "    .dataframe thead th {\n",
       "        text-align: right;\n",
       "    }\n",
       "</style>\n",
       "<table border=\"1\" class=\"dataframe\">\n",
       "  <thead>\n",
       "    <tr style=\"text-align: right;\">\n",
       "      <th></th>\n",
       "      <th>Open</th>\n",
       "      <th>High</th>\n",
       "      <th>Low</th>\n",
       "      <th>Close</th>\n",
       "      <th>Adj Close</th>\n",
       "      <th>Volume</th>\n",
       "    </tr>\n",
       "    <tr>\n",
       "      <th>Date</th>\n",
       "      <th></th>\n",
       "      <th></th>\n",
       "      <th></th>\n",
       "      <th></th>\n",
       "      <th></th>\n",
       "      <th></th>\n",
       "    </tr>\n",
       "  </thead>\n",
       "  <tbody>\n",
       "    <tr>\n",
       "      <th>2021-04-27</th>\n",
       "      <td>261.579987</td>\n",
       "      <td>263.190002</td>\n",
       "      <td>260.119995</td>\n",
       "      <td>261.970001</td>\n",
       "      <td>261.970001</td>\n",
       "      <td>31014200</td>\n",
       "    </tr>\n",
       "    <tr>\n",
       "      <th>2021-04-28</th>\n",
       "      <td>256.079987</td>\n",
       "      <td>256.540009</td>\n",
       "      <td>252.949997</td>\n",
       "      <td>254.559998</td>\n",
       "      <td>254.559998</td>\n",
       "      <td>46903100</td>\n",
       "    </tr>\n",
       "    <tr>\n",
       "      <th>2021-04-29</th>\n",
       "      <td>255.460007</td>\n",
       "      <td>256.100006</td>\n",
       "      <td>249.000000</td>\n",
       "      <td>252.509995</td>\n",
       "      <td>252.509995</td>\n",
       "      <td>40589000</td>\n",
       "    </tr>\n",
       "    <tr>\n",
       "      <th>2021-04-30</th>\n",
       "      <td>249.740005</td>\n",
       "      <td>253.080002</td>\n",
       "      <td>249.600006</td>\n",
       "      <td>252.179993</td>\n",
       "      <td>252.179993</td>\n",
       "      <td>30929200</td>\n",
       "    </tr>\n",
       "    <tr>\n",
       "      <th>2021-05-03</th>\n",
       "      <td>253.399994</td>\n",
       "      <td>254.350006</td>\n",
       "      <td>251.119995</td>\n",
       "      <td>251.860001</td>\n",
       "      <td>251.860001</td>\n",
       "      <td>19598900</td>\n",
       "    </tr>\n",
       "  </tbody>\n",
       "</table>\n",
       "</div>"
      ],
      "text/plain": [
       "                  Open        High         Low       Close   Adj Close  \\\n",
       "Date                                                                     \n",
       "2021-04-27  261.579987  263.190002  260.119995  261.970001  261.970001   \n",
       "2021-04-28  256.079987  256.540009  252.949997  254.559998  254.559998   \n",
       "2021-04-29  255.460007  256.100006  249.000000  252.509995  252.509995   \n",
       "2021-04-30  249.740005  253.080002  249.600006  252.179993  252.179993   \n",
       "2021-05-03  253.399994  254.350006  251.119995  251.860001  251.860001   \n",
       "\n",
       "              Volume  \n",
       "Date                  \n",
       "2021-04-27  31014200  \n",
       "2021-04-28  46903100  \n",
       "2021-04-29  40589000  \n",
       "2021-04-30  30929200  \n",
       "2021-05-03  19598900  "
      ]
     },
     "execution_count": 3,
     "metadata": {},
     "output_type": "execute_result"
    }
   ],
   "source": [
    "df.tail(5)"
   ]
  },
  {
   "cell_type": "code",
   "execution_count": 4,
   "metadata": {
    "colab": {
     "base_uri": "https://localhost:8080/",
     "height": 447
    },
    "id": "ZPm8CGoCLcmE",
    "outputId": "1d82e3c3-9df6-4ee3-f969-2f9e9ff101b5"
   },
   "outputs": [
    {
     "data": {
      "text/html": [
       "<div>\n",
       "<style scoped>\n",
       "    .dataframe tbody tr th:only-of-type {\n",
       "        vertical-align: middle;\n",
       "    }\n",
       "\n",
       "    .dataframe tbody tr th {\n",
       "        vertical-align: top;\n",
       "    }\n",
       "\n",
       "    .dataframe thead th {\n",
       "        text-align: right;\n",
       "    }\n",
       "</style>\n",
       "<table border=\"1\" class=\"dataframe\">\n",
       "  <thead>\n",
       "    <tr style=\"text-align: right;\">\n",
       "      <th></th>\n",
       "      <th>Open</th>\n",
       "      <th>High</th>\n",
       "      <th>Low</th>\n",
       "      <th>Close</th>\n",
       "      <th>Adj Close</th>\n",
       "      <th>Volume</th>\n",
       "    </tr>\n",
       "    <tr>\n",
       "      <th>Date</th>\n",
       "      <th></th>\n",
       "      <th></th>\n",
       "      <th></th>\n",
       "      <th></th>\n",
       "      <th></th>\n",
       "      <th></th>\n",
       "    </tr>\n",
       "  </thead>\n",
       "  <tbody>\n",
       "    <tr>\n",
       "      <th>1986-03-13</th>\n",
       "      <td>0.088542</td>\n",
       "      <td>0.101563</td>\n",
       "      <td>0.088542</td>\n",
       "      <td>0.097222</td>\n",
       "      <td>0.061751</td>\n",
       "      <td>1031788800</td>\n",
       "    </tr>\n",
       "    <tr>\n",
       "      <th>1986-03-14</th>\n",
       "      <td>0.097222</td>\n",
       "      <td>0.102431</td>\n",
       "      <td>0.097222</td>\n",
       "      <td>0.100694</td>\n",
       "      <td>0.063956</td>\n",
       "      <td>308160000</td>\n",
       "    </tr>\n",
       "    <tr>\n",
       "      <th>1986-03-17</th>\n",
       "      <td>0.100694</td>\n",
       "      <td>0.103299</td>\n",
       "      <td>0.100694</td>\n",
       "      <td>0.102431</td>\n",
       "      <td>0.065059</td>\n",
       "      <td>133171200</td>\n",
       "    </tr>\n",
       "    <tr>\n",
       "      <th>1986-03-18</th>\n",
       "      <td>0.102431</td>\n",
       "      <td>0.103299</td>\n",
       "      <td>0.098958</td>\n",
       "      <td>0.099826</td>\n",
       "      <td>0.063405</td>\n",
       "      <td>67766400</td>\n",
       "    </tr>\n",
       "    <tr>\n",
       "      <th>1986-03-19</th>\n",
       "      <td>0.099826</td>\n",
       "      <td>0.100694</td>\n",
       "      <td>0.097222</td>\n",
       "      <td>0.098090</td>\n",
       "      <td>0.062302</td>\n",
       "      <td>47894400</td>\n",
       "    </tr>\n",
       "    <tr>\n",
       "      <th>...</th>\n",
       "      <td>...</td>\n",
       "      <td>...</td>\n",
       "      <td>...</td>\n",
       "      <td>...</td>\n",
       "      <td>...</td>\n",
       "      <td>...</td>\n",
       "    </tr>\n",
       "    <tr>\n",
       "      <th>2021-04-27</th>\n",
       "      <td>261.579987</td>\n",
       "      <td>263.190002</td>\n",
       "      <td>260.119995</td>\n",
       "      <td>261.970001</td>\n",
       "      <td>261.970001</td>\n",
       "      <td>31014200</td>\n",
       "    </tr>\n",
       "    <tr>\n",
       "      <th>2021-04-28</th>\n",
       "      <td>256.079987</td>\n",
       "      <td>256.540009</td>\n",
       "      <td>252.949997</td>\n",
       "      <td>254.559998</td>\n",
       "      <td>254.559998</td>\n",
       "      <td>46903100</td>\n",
       "    </tr>\n",
       "    <tr>\n",
       "      <th>2021-04-29</th>\n",
       "      <td>255.460007</td>\n",
       "      <td>256.100006</td>\n",
       "      <td>249.000000</td>\n",
       "      <td>252.509995</td>\n",
       "      <td>252.509995</td>\n",
       "      <td>40589000</td>\n",
       "    </tr>\n",
       "    <tr>\n",
       "      <th>2021-04-30</th>\n",
       "      <td>249.740005</td>\n",
       "      <td>253.080002</td>\n",
       "      <td>249.600006</td>\n",
       "      <td>252.179993</td>\n",
       "      <td>252.179993</td>\n",
       "      <td>30929200</td>\n",
       "    </tr>\n",
       "    <tr>\n",
       "      <th>2021-05-03</th>\n",
       "      <td>253.399994</td>\n",
       "      <td>254.350006</td>\n",
       "      <td>251.119995</td>\n",
       "      <td>251.860001</td>\n",
       "      <td>251.860001</td>\n",
       "      <td>19598900</td>\n",
       "    </tr>\n",
       "  </tbody>\n",
       "</table>\n",
       "<p>8857 rows × 6 columns</p>\n",
       "</div>"
      ],
      "text/plain": [
       "                  Open        High         Low       Close   Adj Close  \\\n",
       "Date                                                                     \n",
       "1986-03-13    0.088542    0.101563    0.088542    0.097222    0.061751   \n",
       "1986-03-14    0.097222    0.102431    0.097222    0.100694    0.063956   \n",
       "1986-03-17    0.100694    0.103299    0.100694    0.102431    0.065059   \n",
       "1986-03-18    0.102431    0.103299    0.098958    0.099826    0.063405   \n",
       "1986-03-19    0.099826    0.100694    0.097222    0.098090    0.062302   \n",
       "...                ...         ...         ...         ...         ...   \n",
       "2021-04-27  261.579987  263.190002  260.119995  261.970001  261.970001   \n",
       "2021-04-28  256.079987  256.540009  252.949997  254.559998  254.559998   \n",
       "2021-04-29  255.460007  256.100006  249.000000  252.509995  252.509995   \n",
       "2021-04-30  249.740005  253.080002  249.600006  252.179993  252.179993   \n",
       "2021-05-03  253.399994  254.350006  251.119995  251.860001  251.860001   \n",
       "\n",
       "                Volume  \n",
       "Date                    \n",
       "1986-03-13  1031788800  \n",
       "1986-03-14   308160000  \n",
       "1986-03-17   133171200  \n",
       "1986-03-18    67766400  \n",
       "1986-03-19    47894400  \n",
       "...                ...  \n",
       "2021-04-27    31014200  \n",
       "2021-04-28    46903100  \n",
       "2021-04-29    40589000  \n",
       "2021-04-30    30929200  \n",
       "2021-05-03    19598900  \n",
       "\n",
       "[8857 rows x 6 columns]"
      ]
     },
     "execution_count": 4,
     "metadata": {},
     "output_type": "execute_result"
    }
   ],
   "source": [
    "df"
   ]
  },
  {
   "cell_type": "code",
   "execution_count": 5,
   "metadata": {
    "colab": {
     "base_uri": "https://localhost:8080/"
    },
    "id": "s2Lp7io82gc6",
    "outputId": "729474ec-5e4c-464a-d651-ff4780d4010a"
   },
   "outputs": [
    {
     "data": {
      "text/plain": [
       "(8857,)"
      ]
     },
     "execution_count": 5,
     "metadata": {},
     "output_type": "execute_result"
    }
   ],
   "source": [
    "df1=df['Close']\n",
    "df1.shape"
   ]
  },
  {
   "cell_type": "code",
   "execution_count": 6,
   "metadata": {
    "colab": {
     "base_uri": "https://localhost:8080/",
     "height": 627
    },
    "id": "TtorWeme21jb",
    "outputId": "c79dbb55-29f9-4816-8b63-a19e8e1174c8"
   },
   "outputs": [
    {
     "data": {
      "image/png": "[encoded data removed]",
      "text/plain": [
       "<Figure size 1152x720 with 1 Axes>"
      ]
     },
     "metadata": {},
     "output_type": "display_data"
    }
   ],
   "source": [
    "plt.figure(figsize=(16,10))\n",
    "plt.title(\"Close Price History\")\n",
    "plt.plot(df1)\n",
    "plt.xlabel('Date',fontsize=18)\n",
    "plt.ylabel('Close Price',fontsize=18)\n",
    "plt.show()"
   ]
  },
  {
   "cell_type": "code",
   "execution_count": 7,
   "metadata": {
    "id": "nWNGRo0u3GuV"
   },
   "outputs": [],
   "source": [
    "scaler=MinMaxScaler(feature_range=(0,1))\n",
    "df1=scaler.fit_transform(np.array(df1).reshape(-1,1))"
   ]
  },
  {
   "cell_type": "code",
   "execution_count": 8,
   "metadata": {
    "colab": {
     "base_uri": "https://localhost:8080/"
    },
    "id": "ig6TCsTr3bY1",
    "outputId": "2371717a-a3c5-41a1-f07a-073034dc8685"
   },
   "outputs": [
    {
     "data": {
      "text/plain": [
       "(8857, 1)"
      ]
     },
     "execution_count": 8,
     "metadata": {},
     "output_type": "execute_result"
    }
   ],
   "source": [
    "df1.shape"
   ]
  },
  {
   "cell_type": "code",
   "execution_count": 9,
   "metadata": {
    "colab": {
     "base_uri": "https://localhost:8080/"
    },
    "id": "YcAtB6Ac3cqh",
    "outputId": "6dbd983e-ebe8-4e49-f28b-a00c9da0f275"
   },
   "outputs": [
    {
     "data": {
      "text/plain": [
       "(6642, 2215)"
      ]
     },
     "execution_count": 9,
     "metadata": {},
     "output_type": "execute_result"
    }
   ],
   "source": [
    "#splitting dataset\n",
    "training_size=int(len(df1)*0.75)\n",
    "test_size=len(df1)-training_size\n",
    "train_data,test_data=df1[0:training_size,:],df1[training_size:len(df1),:1]\n",
    "training_size,test_size"
   ]
  },
  {
   "cell_type": "code",
   "execution_count": 10,
   "metadata": {
    "colab": {
     "base_uri": "https://localhost:8080/"
    },
    "id": "u68zauSS4BUO",
    "outputId": "6e4d8b1e-ebc4-4fcf-942b-b643d1ecf39c"
   },
   "outputs": [
    {
     "data": {
      "text/plain": [
       "array([[2.65159923e-05],\n",
       "       [3.97739884e-05],\n",
       "       [4.64067989e-05],\n",
       "       ...,\n",
       "       [9.63876521e-01],\n",
       "       [9.62616393e-01],\n",
       "       [9.61394489e-01]])"
      ]
     },
     "execution_count": 10,
     "metadata": {},
     "output_type": "execute_result"
    }
   ],
   "source": [
    "df1"
   ]
  },
  {
   "cell_type": "code",
   "execution_count": 11,
   "metadata": {
    "id": "yt8rVEBI6w5w"
   },
   "outputs": [],
   "source": [
    "def create_dataset(dataset, time_step=1):\n",
    "  dataX, dataY = [], []\n",
    "  for i in range(len(dataset)-time_step-1):\n",
    "    a = dataset[i:(i+time_step), 0]\n",
    "    dataX.append(a)\n",
    "    dataY.append(dataset[i + time_step, 0])\n",
    "  return numpy.array(dataX), numpy.array(dataY)"
   ]
  },
  {
   "cell_type": "code",
   "execution_count": 12,
   "metadata": {
    "id": "wiGCPiLD7meL"
   },
   "outputs": [],
   "source": [
    "import numpy\n",
    "time_step = 100\n",
    "x_train, y_train = create_dataset(train_data, time_step)\n",
    "x_test, y_test = create_dataset(test_data, time_step)"
   ]
  },
  {
   "cell_type": "code",
   "execution_count": 13,
   "metadata": {
    "colab": {
     "base_uri": "https://localhost:8080/"
    },
    "id": "JBpcUkrV8END",
    "outputId": "ee2a32b3-51d6-499f-e8b3-5e3f6e7ab359"
   },
   "outputs": [
    {
     "name": "stdout",
     "output_type": "stream",
     "text": [
      "[[2.65159923e-05 3.97739884e-05 4.64067989e-05 ... 3.31449904e-05\n",
      "  2.98304913e-05 2.98304913e-05]\n",
      " [3.97739884e-05 4.64067989e-05 3.64594894e-05 ... 2.98304913e-05\n",
      "  2.98304913e-05 2.65159923e-05]\n",
      " [4.64067989e-05 3.64594894e-05 2.98304913e-05 ... 2.98304913e-05\n",
      "  2.65159923e-05 2.32014933e-05]\n",
      " ...\n",
      " [1.15166312e-01 1.14402600e-01 1.19137605e-01 ... 1.17113772e-01\n",
      "  1.16884661e-01 1.14937202e-01]\n",
      " [1.14402600e-01 1.19137605e-01 1.18984859e-01 ... 1.16884661e-01\n",
      "  1.14937202e-01 1.14211676e-01]\n",
      " [1.19137605e-01 1.18984859e-01 1.19710385e-01 ... 1.14937202e-01\n",
      "  1.14211676e-01 1.13218853e-01]]\n"
     ]
    }
   ],
   "source": [
    "print(x_train)"
   ]
  },
  {
   "cell_type": "code",
   "execution_count": 14,
   "metadata": {
    "colab": {
     "base_uri": "https://localhost:8080/"
    },
    "id": "Knn0HpfC-7Tp",
    "outputId": "3b05dcff-38ec-4684-855c-7d715897d2d5"
   },
   "outputs": [
    {
     "name": "stdout",
     "output_type": "stream",
     "text": [
      "(6541, 100)\n",
      "(6541,)\n"
     ]
    },
    {
     "data": {
      "text/plain": [
       "(None, None)"
      ]
     },
     "execution_count": 14,
     "metadata": {},
     "output_type": "execute_result"
    }
   ],
   "source": [
    "print(x_train.shape), print(y_train.shape)"
   ]
  },
  {
   "cell_type": "code",
   "execution_count": 15,
   "metadata": {
    "colab": {
     "base_uri": "https://localhost:8080/"
    },
    "id": "ijZXwhVzAYLg",
    "outputId": "f882ce24-4056-45c8-f02e-bbaff4d6f19d"
   },
   "outputs": [
    {
     "name": "stdout",
     "output_type": "stream",
     "text": [
      "(2114, 100)\n",
      "(2114,)\n"
     ]
    },
    {
     "data": {
      "text/plain": [
       "(None, None)"
      ]
     },
     "execution_count": 15,
     "metadata": {},
     "output_type": "execute_result"
    }
   ],
   "source": [
    "print(x_test.shape), print(y_test.shape)"
   ]
  },
  {
   "cell_type": "code",
   "execution_count": 16,
   "metadata": {
    "id": "k4GLQpm6_G60"
   },
   "outputs": [],
   "source": [
    "x_train = x_train.reshape(x_train.shape[0],x_train.shape[1], 1)\n",
    "x_test = x_test.reshape(x_test.shape[0],x_test.shape[1], 1)"
   ]
  },
  {
   "cell_type": "code",
   "execution_count": 17,
   "metadata": {
    "colab": {
     "base_uri": "https://localhost:8080/"
    },
    "id": "nupBTRgt_a-8",
    "outputId": "cb844fb0-842f-4807-f15f-8681e02e6ac5"
   },
   "outputs": [
    {
     "name": "stdout",
     "output_type": "stream",
     "text": [
      "Epoch 1/10\n",
      "205/205 [==============================] - 87s 327ms/step - loss: 9.1308e-04\n",
      "Epoch 2/10\n",
      "205/205 [==============================] - 61s 295ms/step - loss: 8.8173e-05\n",
      "Epoch 3/10\n",
      "205/205 [==============================] - 71s 347ms/step - loss: 7.0370e-05\n",
      "Epoch 4/10\n",
      "205/205 [==============================] - 67s 325ms/step - loss: 6.7277e-05\n",
      "Epoch 5/10\n",
      "205/205 [==============================] - 74s 363ms/step - loss: 6.2755e-05\n",
      "Epoch 6/10\n",
      "205/205 [==============================] - 77s 374ms/step - loss: 5.7604e-05\n",
      "Epoch 7/10\n",
      "205/205 [==============================] - 74s 362ms/step - loss: 5.4031e-05\n",
      "Epoch 8/10\n",
      "205/205 [==============================] - 75s 366ms/step - loss: 6.4450e-05\n",
      "Epoch 9/10\n",
      "205/205 [==============================] - 75s 368ms/step - loss: 4.5434e-05\n",
      "Epoch 10/10\n",
      "205/205 [==============================] - 77s 378ms/step - loss: 4.4441e-05\n"
     ]
    },
    {
     "data": {
      "text/plain": [
       "<tensorflow.python.keras.callbacks.History at 0x23f2dcb3d30>"
      ]
     },
     "execution_count": 17,
     "metadata": {},
     "output_type": "execute_result"
    }
   ],
   "source": [
    "# The GRU architecture\n",
    "model = Sequential()\n",
    "# First GRU layer with Dropout regularisation\n",
    "model.add(GRU(units=50, return_sequences=True, input_shape=(x_train.shape[1],1)))\n",
    "model.add(Dropout(0.2))\n",
    "# Second GRU layer\n",
    "model.add(GRU(units=50, return_sequences=True))\n",
    "model.add(Dropout(0.2))\n",
    "# Third GRU layer\n",
    "model.add(GRU(units=50, return_sequences=True))\n",
    "model.add(Dropout(0.2))\n",
    "# Fourth GRU layer\n",
    "model.add(GRU(units=50))\n",
    "model.add(Dropout(0.2))\n",
    "# The output layer\n",
    "model.add(Dense(units=1))\n",
    "\n",
    "# Compiling the RNN\n",
    "model.compile(optimizer='adam',loss='mean_squared_error')\n",
    "# Fitting to the training set\n",
    "model.fit(x_train,y_train,epochs=10,batch_size=32)"
   ]
  },
  {
   "cell_type": "code",
   "execution_count": 18,
   "metadata": {
    "id": "lpVdPxgb3VVJ"
   },
   "outputs": [],
   "source": [
    "model.save(\"model.h5\")"
   ]
  },
  {
   "cell_type": "code",
   "execution_count": 19,
   "metadata": {
    "colab": {
     "base_uri": "https://localhost:8080/"
    },
    "id": "HPAjrP8m6aQQ",
    "outputId": "0b3c845e-6128-4c34-d998-55939084bb16",
    "scrolled": true
   },
   "outputs": [
    {
     "ename": "ModuleNotFoundError",
     "evalue": "No module named 'google.colab'",
     "output_type": "error",
     "traceback": [
      "\u001b[1;31m---------------------------------------------------------------------------\u001b[0m",
      "\u001b[1;31mModuleNotFoundError\u001b[0m                       Traceback (most recent call last)",
      "\u001b[1;32m<ipython-input-19-d5df0069828e>\u001b[0m in \u001b[0;36m<module>\u001b[1;34m\u001b[0m\n\u001b[1;32m----> 1\u001b[1;33m \u001b[1;32mfrom\u001b[0m \u001b[0mgoogle\u001b[0m\u001b[1;33m.\u001b[0m\u001b[0mcolab\u001b[0m \u001b[1;32mimport\u001b[0m \u001b[0mdrive\u001b[0m\u001b[1;33m\u001b[0m\u001b[1;33m\u001b[0m\u001b[0m\n\u001b[0m\u001b[0;32m      2\u001b[0m \u001b[0mdrive\u001b[0m\u001b[1;33m.\u001b[0m\u001b[0mmount\u001b[0m\u001b[1;33m(\u001b[0m\u001b[1;34m'/content/drive'\u001b[0m\u001b[1;33m)\u001b[0m\u001b[1;33m\u001b[0m\u001b[1;33m\u001b[0m\u001b[0m\n",
      "\u001b[1;31mModuleNotFoundError\u001b[0m: No module named 'google.colab'"
     ]
    }
   ],
   "source": [
    "from google.colab import drive\n",
    "drive.mount('/content/drive')"
   ]
  },
  {
   "cell_type": "code",
   "execution_count": 20,
   "metadata": {
    "colab": {
     "base_uri": "https://localhost:8080/"
    },
    "id": "dqsUiCIiA5GN",
    "outputId": "ef822f16-22e0-413f-e29f-da016a67668d"
   },
   "outputs": [
    {
     "name": "stdout",
     "output_type": "stream",
     "text": [
      "Model: \"sequential\"\n",
      "_________________________________________________________________\n",
      "Layer (type)                 Output Shape              Param #   \n",
      "=================================================================\n",
      "gru (GRU)                    (None, 100, 50)           7950      \n",
      "_________________________________________________________________\n",
      "dropout (Dropout)            (None, 100, 50)           0         \n",
      "_________________________________________________________________\n",
      "gru_1 (GRU)                  (None, 100, 50)           15300     \n",
      "_________________________________________________________________\n",
      "dropout_1 (Dropout)          (None, 100, 50)           0         \n",
      "_________________________________________________________________\n",
      "gru_2 (GRU)                  (None, 100, 50)           15300     \n",
      "_________________________________________________________________\n",
      "dropout_2 (Dropout)          (None, 100, 50)           0         \n",
      "_________________________________________________________________\n",
      "gru_3 (GRU)                  (None, 50)                15300     \n",
      "_________________________________________________________________\n",
      "dropout_3 (Dropout)          (None, 50)                0         \n",
      "_________________________________________________________________\n",
      "dense (Dense)                (None, 1)                 51        \n",
      "=================================================================\n",
      "Total params: 53,901\n",
      "Trainable params: 53,901\n",
      "Non-trainable params: 0\n",
      "_________________________________________________________________\n"
     ]
    }
   ],
   "source": [
    "model.summary()"
   ]
  },
  {
   "cell_type": "code",
   "execution_count": 21,
   "metadata": {
    "id": "N7MsnUiOBW9L"
   },
   "outputs": [],
   "source": [
    "train_predict=model.predict(x_train)\n",
    "test_predict=model.predict(x_test)"
   ]
  },
  {
   "cell_type": "code",
   "execution_count": 22,
   "metadata": {
    "id": "ERPK_RIYBplR"
   },
   "outputs": [],
   "source": [
    "train_predict=scaler.inverse_transform(train_predict)\n",
    "test_predict=scaler.inverse_transform(test_predict)"
   ]
  },
  {
   "cell_type": "code",
   "execution_count": 23,
   "metadata": {
    "colab": {
     "base_uri": "https://localhost:8080/"
    },
    "id": "WnvVKPyhB45Q",
    "outputId": "40539c02-c024-4624-c1d1-a1d961af1b81"
   },
   "outputs": [
    {
     "data": {
      "text/plain": [
       "21.89071012309709"
      ]
     },
     "execution_count": 23,
     "metadata": {},
     "output_type": "execute_result"
    }
   ],
   "source": [
    "math.sqrt(mean_squared_error(y_train,train_predict))"
   ]
  },
  {
   "cell_type": "code",
   "execution_count": 24,
   "metadata": {
    "colab": {
     "base_uri": "https://localhost:8080/"
    },
    "id": "SVAbiaWLCFm2",
    "outputId": "656da92b-b743-4dfd-9378-03207c1e4433"
   },
   "outputs": [
    {
     "data": {
      "text/plain": [
       "97.65123360056636"
      ]
     },
     "execution_count": 24,
     "metadata": {},
     "output_type": "execute_result"
    }
   ],
   "source": [
    "math.sqrt(mean_squared_error(y_test,test_predict))"
   ]
  },
  {
   "cell_type": "code",
   "execution_count": 25,
   "metadata": {
    "colab": {
     "base_uri": "https://localhost:8080/",
     "height": 610
    },
    "id": "fnZHvdM6CNL_",
    "outputId": "605b6783-eb02-41e7-965a-0d2fc97cd316"
   },
   "outputs": [
    {
     "data": {
      "image/png": "[encoded data removed]",
      "text/plain": [
       "<Figure size 1152x720 with 1 Axes>"
      ]
     },
     "metadata": {},
     "output_type": "display_data"
    }
   ],
   "source": [
    "plt.figure(figsize=(16,10))\n",
    "look_back=100\n",
    "trainPredictPlot = numpy.empty_like(df1)\n",
    "trainPredictPlot[:, :] = np.nan\n",
    "trainPredictPlot[look_back:len(train_predict)+look_back, :] = train_predict\n",
    "\n",
    "testPredictPlot = numpy.empty_like(df1)\n",
    "testPredictPlot[:, :] = numpy.nan\n",
    "testPredictPlot[len(train_predict)+(look_back*2)+1:len(df1)-1, :] = test_predict\n",
    "\n",
    "plt.plot(scaler.inverse_transform(df1))\n",
    "plt.plot(trainPredictPlot)\n",
    "plt.plot(testPredictPlot)\n",
    "plt.xlabel('Date',fontsize=18)\n",
    "plt.ylabel('Close price',fontsize=18)\n",
    "plt.legend(['Actual Price','Trained Predictions', 'Test Predictions'], loc='upper left')\n",
    "plt.show()"
   ]
  },
  {
   "cell_type": "code",
   "execution_count": 27,
   "metadata": {
    "colab": {
     "base_uri": "https://localhost:8080/"
    },
    "id": "AjqnPd4y_s7r",
    "outputId": "677bfc80-5147-46d5-a94b-9790cd9c1299"
   },
   "outputs": [
    {
     "data": {
      "text/plain": [
       "array([[0.11188236],\n",
       "       [0.11207329],\n",
       "       [0.11291337],\n",
       "       ...,\n",
       "       [0.96387652],\n",
       "       [0.96261639],\n",
       "       [0.96139449]])"
      ]
     },
     "execution_count": 27,
     "metadata": {},
     "output_type": "execute_result"
    }
   ],
   "source": [
    "len(test_data)\n",
    "test_data"
   ]
  },
  {
   "cell_type": "code",
   "execution_count": 28,
   "metadata": {
    "colab": {
     "base_uri": "https://localhost:8080/"
    },
    "id": "OZMKm_NyBRiB",
    "outputId": "6570a50a-aa49-460a-8be6-f5c5ae423fea"
   },
   "outputs": [
    {
     "data": {
      "text/plain": [
       "(1, 100)"
      ]
     },
     "execution_count": 28,
     "metadata": {},
     "output_type": "execute_result"
    }
   ],
   "source": [
    "x_input = test_data[2115:].reshape(1,-1)\n",
    "x_input.shape"
   ]
  },
  {
   "cell_type": "code",
   "execution_count": 29,
   "metadata": {
    "colab": {
     "base_uri": "https://localhost:8080/"
    },
    "collapsed": true,
    "id": "l9qm0QWGBs7u",
    "outputId": "a403d630-10f4-445c-8440-69ba00f6ecd0"
   },
   "outputs": [
    {
     "data": {
      "text/plain": [
       "[0.8244995597651891,\n",
       " 0.8084235100302337,\n",
       " 0.8035357746853464,\n",
       " 0.8139985558456202,\n",
       " 0.8175879992352969,\n",
       " 0.8173207312522366,\n",
       " 0.8369862243768686,\n",
       " 0.8375208186093906,\n",
       " 0.8343514177071526,\n",
       " 0.8496256052265255,\n",
       " 0.8547806668208744,\n",
       " 0.8436305169237003,\n",
       " 0.8502365867112368,\n",
       " 0.858675600952907,\n",
       " 0.8555825290364568,\n",
       " 0.8461507135819318,\n",
       " 0.8489764592489204,\n",
       " 0.8309147488218542,\n",
       " 0.8317166110374367,\n",
       " 0.810141844472883,\n",
       " 0.8332058419899194,\n",
       " 0.838284516332079,\n",
       " 0.830151051099166,\n",
       " 0.8203755221429901,\n",
       " 0.8257596872275054,\n",
       " 0.8130821418849544,\n",
       " 0.8116692399182598,\n",
       " 0.8261415652220503,\n",
       " 0.8563080622662512,\n",
       " 0.8587137654458009,\n",
       " 0.8624559250734548,\n",
       " 0.8761263298952617,\n",
       " 0.886818272812103,\n",
       " 0.8889948142350851,\n",
       " 0.9120206472592275,\n",
       " 0.8854054291118095,\n",
       " 0.9147700056740269,\n",
       " 0.9142354114415049,\n",
       " 0.9275621610280621,\n",
       " 0.923781778641113,\n",
       " 0.9245073118709073,\n",
       " 0.9255383358430573,\n",
       " 0.9305024584401337,\n",
       " 0.926874850557563,\n",
       " 0.9332518168549331,\n",
       " 0.9351610902948547,\n",
       " 0.9302351321906721,\n",
       " 0.9321444056305938,\n",
       " 0.9305787874259217,\n",
       " 0.9198105155232925,\n",
       " 0.8951426770422888,\n",
       " 0.8904077162017798,\n",
       " 0.8952954515466671,\n",
       " 0.8740643402173631,\n",
       " 0.8870092118093755,\n",
       " 0.9044217762588364,\n",
       " 0.892698809369845,\n",
       " 0.8686037878806584,\n",
       " 0.8654343869784203,\n",
       " 0.8840307499044098,\n",
       " 0.8679546419030533,\n",
       " 0.8923551541345954,\n",
       " 0.8871619280473526,\n",
       " 0.9051473094886309,\n",
       " 0.8998776961491988,\n",
       " 0.8962882527595217,\n",
       " 0.907362073670908,\n",
       " 0.9048035959869799,\n",
       " 0.8806704100048994,\n",
       " 0.8792575663046057,\n",
       " 0.9007941683762657,\n",
       " 0.90686564393128,\n",
       " 0.8987703431912608,\n",
       " 0.886856437304997,\n",
       " 0.9026652190568918,\n",
       " 0.8979302582163833,\n",
       " 0.8849853866243705,\n",
       " 0.8999540834013878,\n",
       " 0.9250801288627245,\n",
       " 0.9507407685565832,\n",
       " 0.9461203011947563,\n",
       " 0.95391011119242,\n",
       " 0.9667022665464552,\n",
       " 0.976630511740608,\n",
       " 0.9768596152307745,\n",
       " 0.9867114149063368,\n",
       " 0.975637652261352,\n",
       " 0.9905681845454753,\n",
       " 0.9953031453859841,\n",
       " 0.9876660516262976,\n",
       " 0.9858332237049666,\n",
       " 0.9946921639012726,\n",
       " 0.9816710215898741,\n",
       " 0.9968687635906563,\n",
       " 0.9983961590360328,\n",
       " 1.0,\n",
       " 0.9717045536364255,\n",
       " 0.9638765208794668,\n",
       " 0.9626163934171503,\n",
       " 0.9613944887141292]"
      ]
     },
     "execution_count": 29,
     "metadata": {},
     "output_type": "execute_result"
    }
   ],
   "source": [
    "temp_input=list(x_input)\n",
    "temp_input=temp_input[0].tolist()\n",
    "temp_input"
   ]
  },
  {
   "cell_type": "code",
   "execution_count": 30,
   "metadata": {
    "colab": {
     "base_uri": "https://localhost:8080/"
    },
    "id": "TDdX7GpeB85U",
    "outputId": "4651ec11-4e94-44cc-aab1-7f72fb4c6815"
   },
   "outputs": [
    {
     "name": "stdout",
     "output_type": "stream",
     "text": [
      "[0.8488391]\n",
      "101\n",
      "1 day input [0.80842351 0.80353577 0.81399856 0.817588   0.81732073 0.83698622\n",
      " 0.83752082 0.83435142 0.84962561 0.85478067 0.84363052 0.85023659\n",
      " 0.8586756  0.85558253 0.84615071 0.84897646 0.83091475 0.83171661\n",
      " 0.81014184 0.83320584 0.83828452 0.83015105 0.82037552 0.82575969\n",
      " 0.81308214 0.81166924 0.82614157 0.85630806 0.85871377 0.86245593\n",
      " 0.87612633 0.88681827 0.88899481 0.91202065 0.88540543 0.91477001\n",
      " 0.91423541 0.92756216 0.92378178 0.92450731 0.92553834 0.93050246\n",
      " 0.92687485 0.93325182 0.93516109 0.93023513 0.93214441 0.93057879\n",
      " 0.91981052 0.89514268 0.89040772 0.89529545 0.87406434 0.88700921\n",
      " 0.90442178 0.89269881 0.86860379 0.86543439 0.88403075 0.86795464\n",
      " 0.89235515 0.88716193 0.90514731 0.8998777  0.89628825 0.90736207\n",
      " 0.9048036  0.88067041 0.87925757 0.90079417 0.90686564 0.89877034\n",
      " 0.88685644 0.90266522 0.89793026 0.88498539 0.89995408 0.92508013\n",
      " 0.95074077 0.9461203  0.95391011 0.96670227 0.97663051 0.97685962\n",
      " 0.98671141 0.97563765 0.99056818 0.99530315 0.98766605 0.98583322\n",
      " 0.99469216 0.98167102 0.99686876 0.99839616 1.         0.97170455\n",
      " 0.96387652 0.96261639 0.96139449 0.8488391 ]\n",
      "1 day output [[0.8318434]]\n",
      "2 day input [0.80353577 0.81399856 0.817588   0.81732073 0.83698622 0.83752082\n",
      " 0.83435142 0.84962561 0.85478067 0.84363052 0.85023659 0.8586756\n",
      " 0.85558253 0.84615071 0.84897646 0.83091475 0.83171661 0.81014184\n",
      " 0.83320584 0.83828452 0.83015105 0.82037552 0.82575969 0.81308214\n",
      " 0.81166924 0.82614157 0.85630806 0.85871377 0.86245593 0.87612633\n",
      " 0.88681827 0.88899481 0.91202065 0.88540543 0.91477001 0.91423541\n",
      " 0.92756216 0.92378178 0.92450731 0.92553834 0.93050246 0.92687485\n",
      " 0.93325182 0.93516109 0.93023513 0.93214441 0.93057879 0.91981052\n",
      " 0.89514268 0.89040772 0.89529545 0.87406434 0.88700921 0.90442178\n",
      " 0.89269881 0.86860379 0.86543439 0.88403075 0.86795464 0.89235515\n",
      " 0.88716193 0.90514731 0.8998777  0.89628825 0.90736207 0.9048036\n",
      " 0.88067041 0.87925757 0.90079417 0.90686564 0.89877034 0.88685644\n",
      " 0.90266522 0.89793026 0.88498539 0.89995408 0.92508013 0.95074077\n",
      " 0.9461203  0.95391011 0.96670227 0.97663051 0.97685962 0.98671141\n",
      " 0.97563765 0.99056818 0.99530315 0.98766605 0.98583322 0.99469216\n",
      " 0.98167102 0.99686876 0.99839616 1.         0.97170455 0.96387652\n",
      " 0.96261639 0.96139449 0.8488391  0.83184338]\n",
      "2 day output [[0.8072277]]\n",
      "3 day input [0.81399856 0.817588   0.81732073 0.83698622 0.83752082 0.83435142\n",
      " 0.84962561 0.85478067 0.84363052 0.85023659 0.8586756  0.85558253\n",
      " 0.84615071 0.84897646 0.83091475 0.83171661 0.81014184 0.83320584\n",
      " 0.83828452 0.83015105 0.82037552 0.82575969 0.81308214 0.81166924\n",
      " 0.82614157 0.85630806 0.85871377 0.86245593 0.87612633 0.88681827\n",
      " 0.88899481 0.91202065 0.88540543 0.91477001 0.91423541 0.92756216\n",
      " 0.92378178 0.92450731 0.92553834 0.93050246 0.92687485 0.93325182\n",
      " 0.93516109 0.93023513 0.93214441 0.93057879 0.91981052 0.89514268\n",
      " 0.89040772 0.89529545 0.87406434 0.88700921 0.90442178 0.89269881\n",
      " 0.86860379 0.86543439 0.88403075 0.86795464 0.89235515 0.88716193\n",
      " 0.90514731 0.8998777  0.89628825 0.90736207 0.9048036  0.88067041\n",
      " 0.87925757 0.90079417 0.90686564 0.89877034 0.88685644 0.90266522\n",
      " 0.89793026 0.88498539 0.89995408 0.92508013 0.95074077 0.9461203\n",
      " 0.95391011 0.96670227 0.97663051 0.97685962 0.98671141 0.97563765\n",
      " 0.99056818 0.99530315 0.98766605 0.98583322 0.99469216 0.98167102\n",
      " 0.99686876 0.99839616 1.         0.97170455 0.96387652 0.96261639\n",
      " 0.96139449 0.8488391  0.83184338 0.80722767]\n",
      "3 day output [[0.7812687]]\n",
      "4 day input [0.817588   0.81732073 0.83698622 0.83752082 0.83435142 0.84962561\n",
      " 0.85478067 0.84363052 0.85023659 0.8586756  0.85558253 0.84615071\n",
      " 0.84897646 0.83091475 0.83171661 0.81014184 0.83320584 0.83828452\n",
      " 0.83015105 0.82037552 0.82575969 0.81308214 0.81166924 0.82614157\n",
      " 0.85630806 0.85871377 0.86245593 0.87612633 0.88681827 0.88899481\n",
      " 0.91202065 0.88540543 0.91477001 0.91423541 0.92756216 0.92378178\n",
      " 0.92450731 0.92553834 0.93050246 0.92687485 0.93325182 0.93516109\n",
      " 0.93023513 0.93214441 0.93057879 0.91981052 0.89514268 0.89040772\n",
      " 0.89529545 0.87406434 0.88700921 0.90442178 0.89269881 0.86860379\n",
      " 0.86543439 0.88403075 0.86795464 0.89235515 0.88716193 0.90514731\n",
      " 0.8998777  0.89628825 0.90736207 0.9048036  0.88067041 0.87925757\n",
      " 0.90079417 0.90686564 0.89877034 0.88685644 0.90266522 0.89793026\n",
      " 0.88498539 0.89995408 0.92508013 0.95074077 0.9461203  0.95391011\n",
      " 0.96670227 0.97663051 0.97685962 0.98671141 0.97563765 0.99056818\n",
      " 0.99530315 0.98766605 0.98583322 0.99469216 0.98167102 0.99686876\n",
      " 0.99839616 1.         0.97170455 0.96387652 0.96261639 0.96139449\n",
      " 0.8488391  0.83184338 0.80722767 0.78126872]\n",
      "4 day output [[0.75667346]]\n",
      "5 day input [0.81732073 0.83698622 0.83752082 0.83435142 0.84962561 0.85478067\n",
      " 0.84363052 0.85023659 0.8586756  0.85558253 0.84615071 0.84897646\n",
      " 0.83091475 0.83171661 0.81014184 0.83320584 0.83828452 0.83015105\n",
      " 0.82037552 0.82575969 0.81308214 0.81166924 0.82614157 0.85630806\n",
      " 0.85871377 0.86245593 0.87612633 0.88681827 0.88899481 0.91202065\n",
      " 0.88540543 0.91477001 0.91423541 0.92756216 0.92378178 0.92450731\n",
      " 0.92553834 0.93050246 0.92687485 0.93325182 0.93516109 0.93023513\n",
      " 0.93214441 0.93057879 0.91981052 0.89514268 0.89040772 0.89529545\n",
      " 0.87406434 0.88700921 0.90442178 0.89269881 0.86860379 0.86543439\n",
      " 0.88403075 0.86795464 0.89235515 0.88716193 0.90514731 0.8998777\n",
      " 0.89628825 0.90736207 0.9048036  0.88067041 0.87925757 0.90079417\n",
      " 0.90686564 0.89877034 0.88685644 0.90266522 0.89793026 0.88498539\n",
      " 0.89995408 0.92508013 0.95074077 0.9461203  0.95391011 0.96670227\n",
      " 0.97663051 0.97685962 0.98671141 0.97563765 0.99056818 0.99530315\n",
      " 0.98766605 0.98583322 0.99469216 0.98167102 0.99686876 0.99839616\n",
      " 1.         0.97170455 0.96387652 0.96261639 0.96139449 0.8488391\n",
      " 0.83184338 0.80722767 0.78126872 0.75667346]\n",
      "5 day output [[0.73391026]]\n",
      "6 day input [0.83698622 0.83752082 0.83435142 0.84962561 0.85478067 0.84363052\n",
      " 0.85023659 0.8586756  0.85558253 0.84615071 0.84897646 0.83091475\n",
      " 0.83171661 0.81014184 0.83320584 0.83828452 0.83015105 0.82037552\n",
      " 0.82575969 0.81308214 0.81166924 0.82614157 0.85630806 0.85871377\n",
      " 0.86245593 0.87612633 0.88681827 0.88899481 0.91202065 0.88540543\n",
      " 0.91477001 0.91423541 0.92756216 0.92378178 0.92450731 0.92553834\n",
      " 0.93050246 0.92687485 0.93325182 0.93516109 0.93023513 0.93214441\n",
      " 0.93057879 0.91981052 0.89514268 0.89040772 0.89529545 0.87406434\n",
      " 0.88700921 0.90442178 0.89269881 0.86860379 0.86543439 0.88403075\n",
      " 0.86795464 0.89235515 0.88716193 0.90514731 0.8998777  0.89628825\n",
      " 0.90736207 0.9048036  0.88067041 0.87925757 0.90079417 0.90686564\n",
      " 0.89877034 0.88685644 0.90266522 0.89793026 0.88498539 0.89995408\n",
      " 0.92508013 0.95074077 0.9461203  0.95391011 0.96670227 0.97663051\n",
      " 0.97685962 0.98671141 0.97563765 0.99056818 0.99530315 0.98766605\n",
      " 0.98583322 0.99469216 0.98167102 0.99686876 0.99839616 1.\n",
      " 0.97170455 0.96387652 0.96261639 0.96139449 0.8488391  0.83184338\n",
      " 0.80722767 0.78126872 0.75667346 0.73391026]\n",
      "6 day output [[0.71275926]]\n",
      "7 day input [0.83752082 0.83435142 0.84962561 0.85478067 0.84363052 0.85023659\n",
      " 0.8586756  0.85558253 0.84615071 0.84897646 0.83091475 0.83171661\n",
      " 0.81014184 0.83320584 0.83828452 0.83015105 0.82037552 0.82575969\n",
      " 0.81308214 0.81166924 0.82614157 0.85630806 0.85871377 0.86245593\n",
      " 0.87612633 0.88681827 0.88899481 0.91202065 0.88540543 0.91477001\n",
      " 0.91423541 0.92756216 0.92378178 0.92450731 0.92553834 0.93050246\n",
      " 0.92687485 0.93325182 0.93516109 0.93023513 0.93214441 0.93057879\n",
      " 0.91981052 0.89514268 0.89040772 0.89529545 0.87406434 0.88700921\n",
      " 0.90442178 0.89269881 0.86860379 0.86543439 0.88403075 0.86795464\n",
      " 0.89235515 0.88716193 0.90514731 0.8998777  0.89628825 0.90736207\n",
      " 0.9048036  0.88067041 0.87925757 0.90079417 0.90686564 0.89877034\n",
      " 0.88685644 0.90266522 0.89793026 0.88498539 0.89995408 0.92508013\n",
      " 0.95074077 0.9461203  0.95391011 0.96670227 0.97663051 0.97685962\n",
      " 0.98671141 0.97563765 0.99056818 0.99530315 0.98766605 0.98583322\n",
      " 0.99469216 0.98167102 0.99686876 0.99839616 1.         0.97170455\n",
      " 0.96387652 0.96261639 0.96139449 0.8488391  0.83184338 0.80722767\n",
      " 0.78126872 0.75667346 0.73391026 0.71275926]\n",
      "7 day output [[0.69295335]]\n",
      "8 day input [0.83435142 0.84962561 0.85478067 0.84363052 0.85023659 0.8586756\n",
      " 0.85558253 0.84615071 0.84897646 0.83091475 0.83171661 0.81014184\n",
      " 0.83320584 0.83828452 0.83015105 0.82037552 0.82575969 0.81308214\n",
      " 0.81166924 0.82614157 0.85630806 0.85871377 0.86245593 0.87612633\n",
      " 0.88681827 0.88899481 0.91202065 0.88540543 0.91477001 0.91423541\n",
      " 0.92756216 0.92378178 0.92450731 0.92553834 0.93050246 0.92687485\n",
      " 0.93325182 0.93516109 0.93023513 0.93214441 0.93057879 0.91981052\n",
      " 0.89514268 0.89040772 0.89529545 0.87406434 0.88700921 0.90442178\n",
      " 0.89269881 0.86860379 0.86543439 0.88403075 0.86795464 0.89235515\n",
      " 0.88716193 0.90514731 0.8998777  0.89628825 0.90736207 0.9048036\n",
      " 0.88067041 0.87925757 0.90079417 0.90686564 0.89877034 0.88685644\n",
      " 0.90266522 0.89793026 0.88498539 0.89995408 0.92508013 0.95074077\n",
      " 0.9461203  0.95391011 0.96670227 0.97663051 0.97685962 0.98671141\n",
      " 0.97563765 0.99056818 0.99530315 0.98766605 0.98583322 0.99469216\n",
      " 0.98167102 0.99686876 0.99839616 1.         0.97170455 0.96387652\n",
      " 0.96261639 0.96139449 0.8488391  0.83184338 0.80722767 0.78126872\n",
      " 0.75667346 0.73391026 0.71275926 0.69295335]\n"
     ]
    },
    {
     "name": "stdout",
     "output_type": "stream",
     "text": [
      "8 day output [[0.67430586]]\n",
      "9 day input [0.84962561 0.85478067 0.84363052 0.85023659 0.8586756  0.85558253\n",
      " 0.84615071 0.84897646 0.83091475 0.83171661 0.81014184 0.83320584\n",
      " 0.83828452 0.83015105 0.82037552 0.82575969 0.81308214 0.81166924\n",
      " 0.82614157 0.85630806 0.85871377 0.86245593 0.87612633 0.88681827\n",
      " 0.88899481 0.91202065 0.88540543 0.91477001 0.91423541 0.92756216\n",
      " 0.92378178 0.92450731 0.92553834 0.93050246 0.92687485 0.93325182\n",
      " 0.93516109 0.93023513 0.93214441 0.93057879 0.91981052 0.89514268\n",
      " 0.89040772 0.89529545 0.87406434 0.88700921 0.90442178 0.89269881\n",
      " 0.86860379 0.86543439 0.88403075 0.86795464 0.89235515 0.88716193\n",
      " 0.90514731 0.8998777  0.89628825 0.90736207 0.9048036  0.88067041\n",
      " 0.87925757 0.90079417 0.90686564 0.89877034 0.88685644 0.90266522\n",
      " 0.89793026 0.88498539 0.89995408 0.92508013 0.95074077 0.9461203\n",
      " 0.95391011 0.96670227 0.97663051 0.97685962 0.98671141 0.97563765\n",
      " 0.99056818 0.99530315 0.98766605 0.98583322 0.99469216 0.98167102\n",
      " 0.99686876 0.99839616 1.         0.97170455 0.96387652 0.96261639\n",
      " 0.96139449 0.8488391  0.83184338 0.80722767 0.78126872 0.75667346\n",
      " 0.73391026 0.71275926 0.69295335 0.67430586]\n",
      "9 day output [[0.6566883]]\n",
      "[[0.8488391041755676], [0.831843376159668], [0.8072276711463928], [0.7812687158584595], [0.7566734552383423], [0.7339102625846863], [0.712759256362915], [0.69295334815979], [0.6743058562278748], [0.6566882729530334]]\n"
     ]
    }
   ],
   "source": [
    "#predictions for next 10 days\n",
    "from numpy import array\n",
    "lst_output=[]\n",
    "n_steps=100\n",
    "i=0\n",
    "while(i<10):\n",
    "  if(len(temp_input)>100):\n",
    "    x_input=np.array(temp_input[1:])\n",
    "    print(\"{} day input {}\".format(i,x_input))\n",
    "    x_input=x_input.reshape(1,-1)\n",
    "    x_input=x_input.reshape((1,n_steps,1))\n",
    "    yhat = model.predict(x_input,verbose=0)\n",
    "    print(\"{} day output {}\".format(i,yhat))\n",
    "    temp_input.extend(yhat[0].tolist())\n",
    "    temp_input=temp_input[1:]\n",
    "    lst_output.extend(yhat.tolist())\n",
    "    i=i+1\n",
    "  else:\n",
    "    x_input = x_input.reshape((1,n_steps,1))\n",
    "    yhat = model.predict(x_input,verbose=0)\n",
    "    print(yhat[0])\n",
    "    temp_input.extend(yhat[0].tolist())\n",
    "    print(len(temp_input))\n",
    "    lst_output.extend(yhat.tolist())\n",
    "    i=i+1\n",
    "\n",
    "print(lst_output)"
   ]
  },
  {
   "cell_type": "code",
   "execution_count": 32,
   "metadata": {
    "id": "_eX3YS7cK3ft"
   },
   "outputs": [],
   "source": [
    "day_new=np.arange(1,101)\n",
    "day_pred=np.arange(101,111)"
   ]
  },
  {
   "cell_type": "code",
   "execution_count": 33,
   "metadata": {
    "colab": {
     "base_uri": "https://localhost:8080/"
    },
    "id": "WZX8-w2TLE88",
    "outputId": "bc9031b3-99f1-4483-e1b3-a462601d4cfd"
   },
   "outputs": [
    {
     "data": {
      "text/plain": [
       "8857"
      ]
     },
     "execution_count": 33,
     "metadata": {},
     "output_type": "execute_result"
    }
   ],
   "source": [
    "len(df1)"
   ]
  },
  {
   "cell_type": "code",
   "execution_count": 34,
   "metadata": {
    "id": "kxilNfJKLKS7"
   },
   "outputs": [],
   "source": [
    "df3=df1.tolist()\n",
    "df3.extend(lst_output)"
   ]
  },
  {
   "cell_type": "code",
   "execution_count": 35,
   "metadata": {
    "colab": {
     "base_uri": "https://localhost:8080/",
     "height": 644
    },
    "id": "alt9TDw7LRtr",
    "outputId": "0d74ca5b-467e-446c-d9e5-b5c927cf825a"
   },
   "outputs": [
    {
     "data": {
      "text/plain": [
       "<matplotlib.legend.Legend at 0x23f2c156940>"
      ]
     },
     "execution_count": 35,
     "metadata": {},
     "output_type": "execute_result"
    },
    {
     "data": {
      "image/png": "[encoded data removed]",
      "text/plain": [
       "<Figure size 1152x720 with 1 Axes>"
      ]
     },
     "metadata": {},
     "output_type": "display_data"
    }
   ],
   "source": [
    "plt.figure(figsize=(16,10))\n",
    "plt.plot(day_new,scaler.inverse_transform(df1[8757:]))\n",
    "plt.plot(day_pred,scaler.inverse_transform(lst_output))\n",
    "plt.title('1 Day Prediction')\n",
    "plt.xlabel('Date',fontsize=18)\n",
    "plt.ylabel('Close Price',fontsize=18)\n",
    "plt.legend(['Actual ','10 Days Predictions'], loc='upper left')"
   ]
  },
  {
   "cell_type": "code",
   "execution_count": 36,
   "metadata": {
    "colab": {
     "base_uri": "https://localhost:8080/"
    },
    "id": "JjXjGlYcLir_",
    "outputId": "945d4320-f7a3-4e8f-c57c-04adc6a6599d"
   },
   "outputs": [
    {
     "data": {
      "text/plain": [
       "[[0.8488391041755676],\n",
       " [0.831843376159668],\n",
       " [0.8072276711463928],\n",
       " [0.7812687158584595],\n",
       " [0.7566734552383423],\n",
       " [0.7339102625846863],\n",
       " [0.712759256362915],\n",
       " [0.69295334815979],\n",
       " [0.6743058562278748],\n",
       " [0.6566882729530334]]"
      ]
     },
     "execution_count": 36,
     "metadata": {},
     "output_type": "execute_result"
    }
   ],
   "source": [
    "lst_output"
   ]
  },
  {
   "cell_type": "markdown",
   "metadata": {
    "id": "aR-4Ah941Bgz"
   },
   "source": [
    "**Model using DataFrame dataset(1 Min Interval)**"
   ]
  },
  {
   "cell_type": "code",
   "execution_count": 38,
   "metadata": {
    "colab": {
     "base_uri": "https://localhost:8080/"
    },
    "id": "fdPhHuhzjHC0",
    "outputId": "3b5389d0-ba70-45f1-cab4-8d48b2d606ba"
   },
   "outputs": [
    {
     "data": {
      "text/plain": [
       "(22805, 6)"
      ]
     },
     "execution_count": 38,
     "metadata": {},
     "output_type": "execute_result"
    }
   ],
   "source": [
    "df4 = pd.read_csv(\"DataFrame.csv\", index_col='Date', parse_dates=[\"Date\"])\n",
    "df4.drop('Unnamed: 7' , axis = 1 , inplace = True)\n",
    "df4.shape"
   ]
  },
  {
   "cell_type": "code",
   "execution_count": 39,
   "metadata": {
    "colab": {
     "base_uri": "https://localhost:8080/",
     "height": 447
    },
    "id": "fsfg3i2vLity",
    "outputId": "d74a6816-db92-4e41-bd26-f463167203ec"
   },
   "outputs": [
    {
     "data": {
      "text/html": [
       "<div>\n",
       "<style scoped>\n",
       "    .dataframe tbody tr th:only-of-type {\n",
       "        vertical-align: middle;\n",
       "    }\n",
       "\n",
       "    .dataframe tbody tr th {\n",
       "        vertical-align: top;\n",
       "    }\n",
       "\n",
       "    .dataframe thead th {\n",
       "        text-align: right;\n",
       "    }\n",
       "</style>\n",
       "<table border=\"1\" class=\"dataframe\">\n",
       "  <thead>\n",
       "    <tr style=\"text-align: right;\">\n",
       "      <th></th>\n",
       "      <th>Type</th>\n",
       "      <th>Time</th>\n",
       "      <th>open</th>\n",
       "      <th>high</th>\n",
       "      <th>low</th>\n",
       "      <th>close</th>\n",
       "    </tr>\n",
       "    <tr>\n",
       "      <th>Date</th>\n",
       "      <th></th>\n",
       "      <th></th>\n",
       "      <th></th>\n",
       "      <th></th>\n",
       "      <th></th>\n",
       "      <th></th>\n",
       "    </tr>\n",
       "  </thead>\n",
       "  <tbody>\n",
       "    <tr>\n",
       "      <th>2021-01-01</th>\n",
       "      <td>NIFTY</td>\n",
       "      <td>09:16</td>\n",
       "      <td>13997.90</td>\n",
       "      <td>14020.85</td>\n",
       "      <td>13991.35</td>\n",
       "      <td>14013.15</td>\n",
       "    </tr>\n",
       "    <tr>\n",
       "      <th>2021-01-01</th>\n",
       "      <td>NIFTY</td>\n",
       "      <td>09:17</td>\n",
       "      <td>14014.85</td>\n",
       "      <td>14018.55</td>\n",
       "      <td>14008.15</td>\n",
       "      <td>14009.05</td>\n",
       "    </tr>\n",
       "    <tr>\n",
       "      <th>2021-01-01</th>\n",
       "      <td>NIFTY</td>\n",
       "      <td>09:18</td>\n",
       "      <td>14008.05</td>\n",
       "      <td>14013.10</td>\n",
       "      <td>14005.05</td>\n",
       "      <td>14012.70</td>\n",
       "    </tr>\n",
       "    <tr>\n",
       "      <th>2021-01-01</th>\n",
       "      <td>NIFTY</td>\n",
       "      <td>09:19</td>\n",
       "      <td>14013.65</td>\n",
       "      <td>14019.10</td>\n",
       "      <td>14013.65</td>\n",
       "      <td>14016.20</td>\n",
       "    </tr>\n",
       "    <tr>\n",
       "      <th>2021-01-01</th>\n",
       "      <td>NIFTY</td>\n",
       "      <td>09:20</td>\n",
       "      <td>14015.45</td>\n",
       "      <td>14017.80</td>\n",
       "      <td>14011.95</td>\n",
       "      <td>14015.45</td>\n",
       "    </tr>\n",
       "    <tr>\n",
       "      <th>...</th>\n",
       "      <td>...</td>\n",
       "      <td>...</td>\n",
       "      <td>...</td>\n",
       "      <td>...</td>\n",
       "      <td>...</td>\n",
       "      <td>...</td>\n",
       "    </tr>\n",
       "    <tr>\n",
       "      <th>2021-03-31</th>\n",
       "      <td>NIFTY</td>\n",
       "      <td>15:27</td>\n",
       "      <td>14687.35</td>\n",
       "      <td>14694.35</td>\n",
       "      <td>14686.30</td>\n",
       "      <td>14690.60</td>\n",
       "    </tr>\n",
       "    <tr>\n",
       "      <th>2021-03-31</th>\n",
       "      <td>NIFTY</td>\n",
       "      <td>15:28</td>\n",
       "      <td>14690.90</td>\n",
       "      <td>14690.90</td>\n",
       "      <td>14686.05</td>\n",
       "      <td>14689.30</td>\n",
       "    </tr>\n",
       "    <tr>\n",
       "      <th>2021-03-31</th>\n",
       "      <td>NIFTY</td>\n",
       "      <td>15:29</td>\n",
       "      <td>14690.30</td>\n",
       "      <td>14694.10</td>\n",
       "      <td>14688.55</td>\n",
       "      <td>14691.30</td>\n",
       "    </tr>\n",
       "    <tr>\n",
       "      <th>2021-03-31</th>\n",
       "      <td>NIFTY</td>\n",
       "      <td>15:30</td>\n",
       "      <td>14689.85</td>\n",
       "      <td>14693.55</td>\n",
       "      <td>14689.45</td>\n",
       "      <td>14693.05</td>\n",
       "    </tr>\n",
       "    <tr>\n",
       "      <th>2021-03-31</th>\n",
       "      <td>NIFTY</td>\n",
       "      <td>15:31</td>\n",
       "      <td>14690.70</td>\n",
       "      <td>14690.70</td>\n",
       "      <td>14690.70</td>\n",
       "      <td>14690.70</td>\n",
       "    </tr>\n",
       "  </tbody>\n",
       "</table>\n",
       "<p>22805 rows × 6 columns</p>\n",
       "</div>"
      ],
      "text/plain": [
       "             Type   Time      open      high       low     close\n",
       "Date                                                            \n",
       "2021-01-01  NIFTY  09:16  13997.90  14020.85  13991.35  14013.15\n",
       "2021-01-01  NIFTY  09:17  14014.85  14018.55  14008.15  14009.05\n",
       "2021-01-01  NIFTY  09:18  14008.05  14013.10  14005.05  14012.70\n",
       "2021-01-01  NIFTY  09:19  14013.65  14019.10  14013.65  14016.20\n",
       "2021-01-01  NIFTY  09:20  14015.45  14017.80  14011.95  14015.45\n",
       "...           ...    ...       ...       ...       ...       ...\n",
       "2021-03-31  NIFTY  15:27  14687.35  14694.35  14686.30  14690.60\n",
       "2021-03-31  NIFTY  15:28  14690.90  14690.90  14686.05  14689.30\n",
       "2021-03-31  NIFTY  15:29  14690.30  14694.10  14688.55  14691.30\n",
       "2021-03-31  NIFTY  15:30  14689.85  14693.55  14689.45  14693.05\n",
       "2021-03-31  NIFTY  15:31  14690.70  14690.70  14690.70  14690.70\n",
       "\n",
       "[22805 rows x 6 columns]"
      ]
     },
     "execution_count": 39,
     "metadata": {},
     "output_type": "execute_result"
    }
   ],
   "source": [
    "df4"
   ]
  },
  {
   "cell_type": "code",
   "execution_count": 40,
   "metadata": {
    "colab": {
     "base_uri": "https://localhost:8080/"
    },
    "id": "T_WZMmDjLixX",
    "outputId": "1919d119-3682-4c50-9d77-d641c45be214"
   },
   "outputs": [
    {
     "data": {
      "text/plain": [
       "(22805,)"
      ]
     },
     "execution_count": 40,
     "metadata": {},
     "output_type": "execute_result"
    }
   ],
   "source": [
    "df5=df4['close']\n",
    "df5.shape"
   ]
  },
  {
   "cell_type": "code",
   "execution_count": 41,
   "metadata": {
    "colab": {
     "base_uri": "https://localhost:8080/",
     "height": 627
    },
    "id": "gFIWKIzJlIhw",
    "outputId": "5e23660d-edfc-4f2f-a774-e09cc67a0480"
   },
   "outputs": [
    {
     "data": {
      "image/png": "[encoded data removed]",
      "text/plain": [
       "<Figure size 1152x720 with 1 Axes>"
      ]
     },
     "metadata": {},
     "output_type": "display_data"
    }
   ],
   "source": [
    "plt.figure(figsize=(16,10))\n",
    "plt.title(\"Close Price History\")\n",
    "plt.plot(df5)\n",
    "plt.xlabel('Date',fontsize=18)\n",
    "plt.ylabel('Close Price',fontsize=18)\n",
    "plt.show()"
   ]
  },
  {
   "cell_type": "code",
   "execution_count": 42,
   "metadata": {
    "id": "pfTsxqFDlyVT"
   },
   "outputs": [],
   "source": [
    "scaler=MinMaxScaler(feature_range=(0,1))\n",
    "df5=scaler.fit_transform(np.array(df5).reshape(-1,1))"
   ]
  },
  {
   "cell_type": "code",
   "execution_count": 43,
   "metadata": {
    "colab": {
     "base_uri": "https://localhost:8080/"
    },
    "id": "LLmjltGSl2up",
    "outputId": "1d7ab139-4226-4cf3-82a9-3144ac0951d6"
   },
   "outputs": [
    {
     "data": {
      "text/plain": [
       "(22805, 1)"
      ]
     },
     "execution_count": 43,
     "metadata": {},
     "output_type": "execute_result"
    }
   ],
   "source": [
    "df5.shape"
   ]
  },
  {
   "cell_type": "code",
   "execution_count": 44,
   "metadata": {
    "colab": {
     "base_uri": "https://localhost:8080/"
    },
    "id": "Q_JXjgNpl8Dh",
    "outputId": "6c962c9b-d710-4b41-cdad-ca7327d8ce3f"
   },
   "outputs": [
    {
     "data": {
      "text/plain": [
       "(17103, 5702)"
      ]
     },
     "execution_count": 44,
     "metadata": {},
     "output_type": "execute_result"
    }
   ],
   "source": [
    "#splitting dataset\n",
    "training_size=int(len(df5)*0.75)\n",
    "test_size=len(df5)-training_size\n",
    "train_data,test_data=df5[0:training_size,:],df5[training_size:len(df5),:1]\n",
    "training_size,test_size"
   ]
  },
  {
   "cell_type": "code",
   "execution_count": 45,
   "metadata": {
    "colab": {
     "base_uri": "https://localhost:8080/"
    },
    "id": "Uspk1WJRmCM9",
    "outputId": "b9d96341-7ac7-48be-de33-f01462e8d796"
   },
   "outputs": [
    {
     "data": {
      "text/plain": [
       "array([[0.22455401],\n",
       "       [0.22231039],\n",
       "       [0.22430776],\n",
       "       ...,\n",
       "       [0.59565503],\n",
       "       [0.59661267],\n",
       "       [0.59532669]])"
      ]
     },
     "execution_count": 45,
     "metadata": {},
     "output_type": "execute_result"
    }
   ],
   "source": [
    "df5"
   ]
  },
  {
   "cell_type": "code",
   "execution_count": 46,
   "metadata": {
    "id": "0qOL7BOqmDWY"
   },
   "outputs": [],
   "source": [
    "def create_dataset(dataset, time_step=1):\n",
    "  dataX, dataY = [], []\n",
    "  for i in range(len(dataset)-time_step-1):\n",
    "    a = dataset[i:(i+time_step), 0]\n",
    "    dataX.append(a)\n",
    "    dataY.append(dataset[i + time_step, 0])\n",
    "  return numpy.array(dataX), numpy.array(dataY)"
   ]
  },
  {
   "cell_type": "code",
   "execution_count": 47,
   "metadata": {
    "id": "1JvDzfHxmJno"
   },
   "outputs": [],
   "source": [
    "import numpy\n",
    "time_step = 100\n",
    "x_train, y_train = create_dataset(train_data, time_step)\n",
    "x_test, y_test = create_dataset(test_data, time_step)"
   ]
  },
  {
   "cell_type": "code",
   "execution_count": 48,
   "metadata": {
    "colab": {
     "base_uri": "https://localhost:8080/"
    },
    "id": "fffHRDbJmgXD",
    "outputId": "b6a72732-c286-4956-f656-2cca20c2ca77"
   },
   "outputs": [
    {
     "name": "stdout",
     "output_type": "stream",
     "text": [
      "[[0.22455401 0.22231039 0.22430776 ... 0.23465032 0.23470505 0.23399365]\n",
      " [0.22231039 0.22430776 0.22622305 ... 0.23470505 0.23399365 0.23470505]\n",
      " [0.22430776 0.22622305 0.22581263 ... 0.23399365 0.23470505 0.23407574]\n",
      " ...\n",
      " [0.76679982 0.76666302 0.76838678 ... 0.76726497 0.76387217 0.75850936]\n",
      " [0.76666302 0.76838678 0.76663566 ... 0.76387217 0.75850936 0.75637518]\n",
      " [0.76838678 0.76663566 0.76543176 ... 0.75850936 0.75637518 0.7538853 ]]\n"
     ]
    }
   ],
   "source": [
    "print(x_train)"
   ]
  },
  {
   "cell_type": "code",
   "execution_count": 49,
   "metadata": {
    "colab": {
     "base_uri": "https://localhost:8080/"
    },
    "id": "msTorhtdmmI6",
    "outputId": "874a3139-542b-4659-b7ce-50d7a2f9bd23"
   },
   "outputs": [
    {
     "name": "stdout",
     "output_type": "stream",
     "text": [
      "(17002, 100)\n",
      "(17002,)\n"
     ]
    },
    {
     "data": {
      "text/plain": [
       "(None, None)"
      ]
     },
     "execution_count": 49,
     "metadata": {},
     "output_type": "execute_result"
    }
   ],
   "source": [
    "print(x_train.shape), print(y_train.shape)"
   ]
  },
  {
   "cell_type": "code",
   "execution_count": 50,
   "metadata": {
    "colab": {
     "base_uri": "https://localhost:8080/"
    },
    "id": "1OYhx0aVmqPM",
    "outputId": "ce3c7b58-3dc5-4a51-ede6-f96176cb7804"
   },
   "outputs": [
    {
     "name": "stdout",
     "output_type": "stream",
     "text": [
      "(5601, 100)\n",
      "(5601,)\n"
     ]
    },
    {
     "data": {
      "text/plain": [
       "(None, None)"
      ]
     },
     "execution_count": 50,
     "metadata": {},
     "output_type": "execute_result"
    }
   ],
   "source": [
    "print(x_test.shape), print(y_test.shape)"
   ]
  },
  {
   "cell_type": "code",
   "execution_count": 51,
   "metadata": {
    "id": "3eE_nSD4mvBh"
   },
   "outputs": [],
   "source": [
    "x_train = x_train.reshape(x_train.shape[0],x_train.shape[1], 1)\n",
    "x_test = x_test.reshape(x_test.shape[0],x_test.shape[1], 1)"
   ]
  },
  {
   "cell_type": "code",
   "execution_count": 52,
   "metadata": {
    "colab": {
     "base_uri": "https://localhost:8080/"
    },
    "id": "fdFefTBwnMNF",
    "outputId": "06cd89d2-e51e-48ab-de67-797d942ddfc0"
   },
   "outputs": [
    {
     "name": "stdout",
     "output_type": "stream",
     "text": [
      "Model: \"sequential_1\"\n",
      "_________________________________________________________________\n",
      "Layer (type)                 Output Shape              Param #   \n",
      "=================================================================\n",
      "lstm (LSTM)                  (None, 100, 50)           10400     \n",
      "_________________________________________________________________\n",
      "lstm_1 (LSTM)                (None, 100, 50)           20200     \n",
      "_________________________________________________________________\n",
      "lstm_2 (LSTM)                (None, 50)                20200     \n",
      "_________________________________________________________________\n",
      "dense_1 (Dense)              (None, 1)                 51        \n",
      "=================================================================\n",
      "Total params: 50,851\n",
      "Trainable params: 50,851\n",
      "Non-trainable params: 0\n",
      "_________________________________________________________________\n"
     ]
    }
   ],
   "source": [
    "model1=Sequential()\n",
    "model1.add(LSTM(50,return_sequences=True,input_shape=(100,1)))\n",
    "model1.add(LSTM(50,return_sequences=True))                               # MODEL PREPARED FOR LSTM\n",
    "model1.add(LSTM(50))\n",
    "model1.add(Dense(1))\n",
    "model1.compile(loss='mean_squared_error',optimizer='adam')\n",
    "model1.summary()          #Summary of Model Prepared"
   ]
  },
  {
   "cell_type": "code",
   "execution_count": 53,
   "metadata": {
    "colab": {
     "base_uri": "https://localhost:8080/"
    },
    "id": "QWrkpjPAnSNq",
    "outputId": "682b0396-6bd5-434c-bbd6-e48df3e97b11"
   },
   "outputs": [
    {
     "name": "stdout",
     "output_type": "stream",
     "text": [
      "Epoch 1/10\n",
      "266/266 [==============================] - 102s 330ms/step - loss: 0.0232 - val_loss: 2.3285e-04\n",
      "Epoch 2/10\n",
      "266/266 [==============================] - 91s 343ms/step - loss: 2.2202e-04 - val_loss: 2.2770e-04\n",
      "Epoch 3/10\n",
      "266/266 [==============================] - 88s 329ms/step - loss: 2.0686e-04 - val_loss: 2.6134e-04\n",
      "Epoch 4/10\n",
      "266/266 [==============================] - 93s 351ms/step - loss: 2.0482e-04 - val_loss: 1.8536e-04\n",
      "Epoch 5/10\n",
      "266/266 [==============================] - 88s 331ms/step - loss: 2.0031e-04 - val_loss: 1.7142e-04\n",
      "Epoch 6/10\n",
      "266/266 [==============================] - 91s 342ms/step - loss: 1.6271e-04 - val_loss: 3.0378e-04\n",
      "Epoch 7/10\n",
      "266/266 [==============================] - 85s 320ms/step - loss: 1.7034e-04 - val_loss: 1.4221e-04\n",
      "Epoch 8/10\n",
      "266/266 [==============================] - 90s 338ms/step - loss: 1.4898e-04 - val_loss: 1.3453e-04\n",
      "Epoch 9/10\n",
      "266/266 [==============================] - 92s 345ms/step - loss: 1.6580e-04 - val_loss: 1.3542e-04\n",
      "Epoch 10/10\n",
      "266/266 [==============================] - 41s 154ms/step - loss: 1.4340e-04 - val_loss: 1.4806e-04\n"
     ]
    },
    {
     "data": {
      "text/plain": [
       "<tensorflow.python.keras.callbacks.History at 0x23f3cb4b6a0>"
      ]
     },
     "execution_count": 53,
     "metadata": {},
     "output_type": "execute_result"
    }
   ],
   "source": [
    "model1.fit(x_train,y_train,validation_data=(x_test,y_test),epochs=10,batch_size=64,verbose=1)    # fitting Model"
   ]
  },
  {
   "cell_type": "code",
   "execution_count": 54,
   "metadata": {
    "id": "COGUtk9x6uMD"
   },
   "outputs": [],
   "source": [
    "model.save(\"model1.h5\")"
   ]
  },
  {
   "cell_type": "code",
   "execution_count": 55,
   "metadata": {
    "id": "NQ35TwHBofoa"
   },
   "outputs": [],
   "source": [
    "train_predict=model1.predict(x_train)\n",
    "test_predict=model1.predict(x_test)"
   ]
  },
  {
   "cell_type": "code",
   "execution_count": 56,
   "metadata": {
    "id": "93DwjJ1woj4z"
   },
   "outputs": [],
   "source": [
    "train_predict=scaler.inverse_transform(train_predict)\n",
    "test_predict=scaler.inverse_transform(test_predict)"
   ]
  },
  {
   "cell_type": "code",
   "execution_count": 57,
   "metadata": {
    "colab": {
     "base_uri": "https://localhost:8080/"
    },
    "id": "ZQ_mRV-_orVg",
    "outputId": "cfa9b652-0f4f-4e5a-89a4-fbc76b8474e6"
   },
   "outputs": [
    {
     "data": {
      "text/plain": [
       "14692.029613975052"
      ]
     },
     "execution_count": 57,
     "metadata": {},
     "output_type": "execute_result"
    }
   ],
   "source": [
    "math.sqrt(mean_squared_error(y_train,train_predict))"
   ]
  },
  {
   "cell_type": "code",
   "execution_count": 58,
   "metadata": {
    "colab": {
     "base_uri": "https://localhost:8080/"
    },
    "id": "ZLF1Vf27ozxz",
    "outputId": "02f24a32-e332-4690-94b4-fa024784b0d7"
   },
   "outputs": [
    {
     "data": {
      "text/plain": [
       "14798.068352687833"
      ]
     },
     "execution_count": 58,
     "metadata": {},
     "output_type": "execute_result"
    }
   ],
   "source": [
    "math.sqrt(mean_squared_error(y_test,test_predict))"
   ]
  },
  {
   "cell_type": "code",
   "execution_count": 59,
   "metadata": {
    "id": "-aWKUl-Jo7mJ"
   },
   "outputs": [
    {
     "data": {
      "image/png": "[encoded data removed]",
      "text/plain": [
       "<Figure size 1152x720 with 1 Axes>"
      ]
     },
     "metadata": {},
     "output_type": "display_data"
    }
   ],
   "source": [
    "plt.figure(figsize=(16,10))\n",
    "look_back=100\n",
    "trainPredictPlot = numpy.empty_like(df5)\n",
    "trainPredictPlot[:, :] = np.nan\n",
    "trainPredictPlot[look_back:len(train_predict)+look_back, :] = train_predict\n",
    "\n",
    "testPredictPlot = numpy.empty_like(df5)\n",
    "testPredictPlot[:, :] = numpy.nan\n",
    "testPredictPlot[len(train_predict)+(look_back*2)+1:len(df5)-1, :] = test_predict\n",
    "\n",
    "plt.plot(scaler.inverse_transform(df5))\n",
    "plt.plot(trainPredictPlot)\n",
    "plt.plot(testPredictPlot)\n",
    "plt.xlabel('Date',fontsize=18)\n",
    "plt.ylabel('Close Price',fontsize=18)\n",
    "plt.legend(['Actual Price','Train Predictions', 'Test Predictions'], loc='upper left')\n",
    "plt.show()"
   ]
  },
  {
   "cell_type": "code",
   "execution_count": 60,
   "metadata": {
    "id": "b8wUUjQepXQE"
   },
   "outputs": [
    {
     "data": {
      "text/plain": [
       "5702"
      ]
     },
     "execution_count": 60,
     "metadata": {},
     "output_type": "execute_result"
    }
   ],
   "source": [
    "len(test_data)"
   ]
  },
  {
   "cell_type": "code",
   "execution_count": 61,
   "metadata": {
    "id": "Ei5SCYQ8pf6a"
   },
   "outputs": [
    {
     "data": {
      "text/plain": [
       "(1, 100)"
      ]
     },
     "execution_count": 61,
     "metadata": {},
     "output_type": "execute_result"
    }
   ],
   "source": [
    "x_input = test_data[5602:].reshape(1,-1)\n",
    "x_input.shape"
   ]
  },
  {
   "cell_type": "code",
   "execution_count": 62,
   "metadata": {
    "id": "XjPmFv7Fp-7C"
   },
   "outputs": [
    {
     "data": {
      "text/plain": [
       "[0.6098555324504762,\n",
       " 0.61152457042793,\n",
       " 0.6153551493925793,\n",
       " 0.6164496005253355,\n",
       " 0.6177903031629626,\n",
       " 0.6115519317062486,\n",
       " 0.6155740396191316,\n",
       " 0.6164496005253355,\n",
       " 0.618857393017402,\n",
       " 0.6203349020466238,\n",
       " 0.6189668381306763,\n",
       " 0.6160118200722327,\n",
       " 0.6207726824997266,\n",
       " 0.6202254569333476,\n",
       " 0.6164222392470169,\n",
       " 0.6163401554120611,\n",
       " 0.6169421035350773,\n",
       " 0.6142333369815027,\n",
       " 0.6220586625807147,\n",
       " 0.6194046185837809,\n",
       " 0.6207453212214062,\n",
       " 0.6231804749917913,\n",
       " 0.6214567144577003,\n",
       " 0.6226332494254123,\n",
       " 0.6254514610922612,\n",
       " 0.6266006347816564,\n",
       " 0.6231804749917913,\n",
       " 0.6180639159461521,\n",
       " 0.6208000437780452,\n",
       " 0.6204990697165371,\n",
       " 0.6162854328554221,\n",
       " 0.6161212651855088,\n",
       " 0.6124822151690914,\n",
       " 0.6132209696837023,\n",
       " 0.612919995622196,\n",
       " 0.6092262230491414,\n",
       " 0.6078855204115126,\n",
       " 0.6083506621429358,\n",
       " 0.6018934004596694,\n",
       " 0.6026868775309175,\n",
       " 0.6007989493269132,\n",
       " 0.6048757797964317,\n",
       " 0.6076939914632806,\n",
       " 0.6074477399584115,\n",
       " 0.6102933129035772,\n",
       " 0.6101291452336657,\n",
       " 0.6077213527415992,\n",
       " 0.6055324504760868,\n",
       " 0.6008263106052318,\n",
       " 0.6041643865601394,\n",
       " 0.6067910692787564,\n",
       " 0.605587173032724,\n",
       " 0.6030425741490628,\n",
       " 0.6061070373207826,\n",
       " 0.6082959395862968,\n",
       " 0.6055598117544054,\n",
       " 0.6067637080004378,\n",
       " 0.6058881470942321,\n",
       " 0.604547444456605,\n",
       " 0.6070920433402645,\n",
       " 0.6084327459778915,\n",
       " 0.6095271971106477,\n",
       " 0.6104027580168534,\n",
       " 0.6111415125314661,\n",
       " 0.6073109335668168,\n",
       " 0.6077213527415992,\n",
       " 0.6158476524023211,\n",
       " 0.613111524570428,\n",
       " 0.6151088978877084,\n",
       " 0.5992119951844135,\n",
       " 0.5899638831126186,\n",
       " 0.5881306774652497,\n",
       " 0.5902101346174895,\n",
       " 0.5908941665754615,\n",
       " 0.5872824778373644,\n",
       " 0.5960107256211007,\n",
       " 0.5986647696180363,\n",
       " 0.6014829812848852,\n",
       " 0.6006074203786795,\n",
       " 0.5981175440516573,\n",
       " 0.5980901827733387,\n",
       " 0.594587939148516,\n",
       " 0.6007442267702743,\n",
       " 0.5972967057020888,\n",
       " 0.5965032286308407,\n",
       " 0.5970504541972197,\n",
       " 0.5952719711064898,\n",
       " 0.595627667724635,\n",
       " 0.5931377913976146,\n",
       " 0.5938218233555865,\n",
       " 0.5907299989055481,\n",
       " 0.5942322425303708,\n",
       " 0.5922895917697275,\n",
       " 0.5937123782423104,\n",
       " 0.5936576556856732,\n",
       " 0.5952719711064898,\n",
       " 0.5945605778701974,\n",
       " 0.5956550290029536,\n",
       " 0.5966126737441169,\n",
       " 0.5953266936631287]"
      ]
     },
     "execution_count": 62,
     "metadata": {},
     "output_type": "execute_result"
    }
   ],
   "source": [
    "temp_input=list(x_input)\n",
    "temp_input=temp_input[0].tolist()\n",
    "temp_input"
   ]
  },
  {
   "cell_type": "code",
   "execution_count": 63,
   "metadata": {
    "id": "GAeCvNbcqGX0"
   },
   "outputs": [
    {
     "name": "stdout",
     "output_type": "stream",
     "text": [
      "[0.5993778]\n",
      "101\n",
      "1 day input [0.61152457 0.61535515 0.6164496  0.6177903  0.61155193 0.61557404\n",
      " 0.6164496  0.61885739 0.6203349  0.61896684 0.61601182 0.62077268\n",
      " 0.62022546 0.61642224 0.61634016 0.6169421  0.61423334 0.62205866\n",
      " 0.61940462 0.62074532 0.62318047 0.62145671 0.62263325 0.62545146\n",
      " 0.62660063 0.62318047 0.61806392 0.62080004 0.62049907 0.61628543\n",
      " 0.61612127 0.61248222 0.61322097 0.61292    0.60922622 0.60788552\n",
      " 0.60835066 0.6018934  0.60268688 0.60079895 0.60487578 0.60769399\n",
      " 0.60744774 0.61029331 0.61012915 0.60772135 0.60553245 0.60082631\n",
      " 0.60416439 0.60679107 0.60558717 0.60304257 0.60610704 0.60829594\n",
      " 0.60555981 0.60676371 0.60588815 0.60454744 0.60709204 0.60843275\n",
      " 0.6095272  0.61040276 0.61114151 0.60731093 0.60772135 0.61584765\n",
      " 0.61311152 0.6151089  0.599212   0.58996388 0.58813068 0.59021013\n",
      " 0.59089417 0.58728248 0.59601073 0.59866477 0.60148298 0.60060742\n",
      " 0.59811754 0.59809018 0.59458794 0.60074423 0.59729671 0.59650323\n",
      " 0.59705045 0.59527197 0.59562767 0.59313779 0.59382182 0.59073\n",
      " 0.59423224 0.59228959 0.59371238 0.59365766 0.59527197 0.59456058\n",
      " 0.59565503 0.59661267 0.59532669 0.59937781]\n",
      "1 day output [[0.59968644]]\n",
      "2 day input [0.61535515 0.6164496  0.6177903  0.61155193 0.61557404 0.6164496\n",
      " 0.61885739 0.6203349  0.61896684 0.61601182 0.62077268 0.62022546\n",
      " 0.61642224 0.61634016 0.6169421  0.61423334 0.62205866 0.61940462\n",
      " 0.62074532 0.62318047 0.62145671 0.62263325 0.62545146 0.62660063\n",
      " 0.62318047 0.61806392 0.62080004 0.62049907 0.61628543 0.61612127\n",
      " 0.61248222 0.61322097 0.61292    0.60922622 0.60788552 0.60835066\n",
      " 0.6018934  0.60268688 0.60079895 0.60487578 0.60769399 0.60744774\n",
      " 0.61029331 0.61012915 0.60772135 0.60553245 0.60082631 0.60416439\n",
      " 0.60679107 0.60558717 0.60304257 0.60610704 0.60829594 0.60555981\n",
      " 0.60676371 0.60588815 0.60454744 0.60709204 0.60843275 0.6095272\n",
      " 0.61040276 0.61114151 0.60731093 0.60772135 0.61584765 0.61311152\n",
      " 0.6151089  0.599212   0.58996388 0.58813068 0.59021013 0.59089417\n",
      " 0.58728248 0.59601073 0.59866477 0.60148298 0.60060742 0.59811754\n",
      " 0.59809018 0.59458794 0.60074423 0.59729671 0.59650323 0.59705045\n",
      " 0.59527197 0.59562767 0.59313779 0.59382182 0.59073    0.59423224\n",
      " 0.59228959 0.59371238 0.59365766 0.59527197 0.59456058 0.59565503\n",
      " 0.59661267 0.59532669 0.59937781 0.59968644]\n",
      "2 day output [[0.60016626]]\n",
      "3 day input [0.6164496  0.6177903  0.61155193 0.61557404 0.6164496  0.61885739\n",
      " 0.6203349  0.61896684 0.61601182 0.62077268 0.62022546 0.61642224\n",
      " 0.61634016 0.6169421  0.61423334 0.62205866 0.61940462 0.62074532\n",
      " 0.62318047 0.62145671 0.62263325 0.62545146 0.62660063 0.62318047\n",
      " 0.61806392 0.62080004 0.62049907 0.61628543 0.61612127 0.61248222\n",
      " 0.61322097 0.61292    0.60922622 0.60788552 0.60835066 0.6018934\n",
      " 0.60268688 0.60079895 0.60487578 0.60769399 0.60744774 0.61029331\n",
      " 0.61012915 0.60772135 0.60553245 0.60082631 0.60416439 0.60679107\n",
      " 0.60558717 0.60304257 0.60610704 0.60829594 0.60555981 0.60676371\n",
      " 0.60588815 0.60454744 0.60709204 0.60843275 0.6095272  0.61040276\n",
      " 0.61114151 0.60731093 0.60772135 0.61584765 0.61311152 0.6151089\n",
      " 0.599212   0.58996388 0.58813068 0.59021013 0.59089417 0.58728248\n",
      " 0.59601073 0.59866477 0.60148298 0.60060742 0.59811754 0.59809018\n",
      " 0.59458794 0.60074423 0.59729671 0.59650323 0.59705045 0.59527197\n",
      " 0.59562767 0.59313779 0.59382182 0.59073    0.59423224 0.59228959\n",
      " 0.59371238 0.59365766 0.59527197 0.59456058 0.59565503 0.59661267\n",
      " 0.59532669 0.59937781 0.59968644 0.60016626]\n",
      "3 day output [[0.6007965]]\n",
      "4 day input [0.6177903  0.61155193 0.61557404 0.6164496  0.61885739 0.6203349\n",
      " 0.61896684 0.61601182 0.62077268 0.62022546 0.61642224 0.61634016\n",
      " 0.6169421  0.61423334 0.62205866 0.61940462 0.62074532 0.62318047\n",
      " 0.62145671 0.62263325 0.62545146 0.62660063 0.62318047 0.61806392\n",
      " 0.62080004 0.62049907 0.61628543 0.61612127 0.61248222 0.61322097\n",
      " 0.61292    0.60922622 0.60788552 0.60835066 0.6018934  0.60268688\n",
      " 0.60079895 0.60487578 0.60769399 0.60744774 0.61029331 0.61012915\n",
      " 0.60772135 0.60553245 0.60082631 0.60416439 0.60679107 0.60558717\n",
      " 0.60304257 0.60610704 0.60829594 0.60555981 0.60676371 0.60588815\n",
      " 0.60454744 0.60709204 0.60843275 0.6095272  0.61040276 0.61114151\n",
      " 0.60731093 0.60772135 0.61584765 0.61311152 0.6151089  0.599212\n",
      " 0.58996388 0.58813068 0.59021013 0.59089417 0.58728248 0.59601073\n",
      " 0.59866477 0.60148298 0.60060742 0.59811754 0.59809018 0.59458794\n",
      " 0.60074423 0.59729671 0.59650323 0.59705045 0.59527197 0.59562767\n",
      " 0.59313779 0.59382182 0.59073    0.59423224 0.59228959 0.59371238\n",
      " 0.59365766 0.59527197 0.59456058 0.59565503 0.59661267 0.59532669\n",
      " 0.59937781 0.59968644 0.60016626 0.60079652]\n",
      "4 day output [[0.601548]]\n",
      "5 day input [0.61155193 0.61557404 0.6164496  0.61885739 0.6203349  0.61896684\n",
      " 0.61601182 0.62077268 0.62022546 0.61642224 0.61634016 0.6169421\n",
      " 0.61423334 0.62205866 0.61940462 0.62074532 0.62318047 0.62145671\n",
      " 0.62263325 0.62545146 0.62660063 0.62318047 0.61806392 0.62080004\n",
      " 0.62049907 0.61628543 0.61612127 0.61248222 0.61322097 0.61292\n",
      " 0.60922622 0.60788552 0.60835066 0.6018934  0.60268688 0.60079895\n",
      " 0.60487578 0.60769399 0.60744774 0.61029331 0.61012915 0.60772135\n",
      " 0.60553245 0.60082631 0.60416439 0.60679107 0.60558717 0.60304257\n",
      " 0.60610704 0.60829594 0.60555981 0.60676371 0.60588815 0.60454744\n",
      " 0.60709204 0.60843275 0.6095272  0.61040276 0.61114151 0.60731093\n",
      " 0.60772135 0.61584765 0.61311152 0.6151089  0.599212   0.58996388\n",
      " 0.58813068 0.59021013 0.59089417 0.58728248 0.59601073 0.59866477\n",
      " 0.60148298 0.60060742 0.59811754 0.59809018 0.59458794 0.60074423\n",
      " 0.59729671 0.59650323 0.59705045 0.59527197 0.59562767 0.59313779\n",
      " 0.59382182 0.59073    0.59423224 0.59228959 0.59371238 0.59365766\n",
      " 0.59527197 0.59456058 0.59565503 0.59661267 0.59532669 0.59937781\n",
      " 0.59968644 0.60016626 0.60079652 0.60154802]\n",
      "5 day output [[0.6023902]]\n",
      "6 day input [0.61557404 0.6164496  0.61885739 0.6203349  0.61896684 0.61601182\n",
      " 0.62077268 0.62022546 0.61642224 0.61634016 0.6169421  0.61423334\n",
      " 0.62205866 0.61940462 0.62074532 0.62318047 0.62145671 0.62263325\n",
      " 0.62545146 0.62660063 0.62318047 0.61806392 0.62080004 0.62049907\n",
      " 0.61628543 0.61612127 0.61248222 0.61322097 0.61292    0.60922622\n",
      " 0.60788552 0.60835066 0.6018934  0.60268688 0.60079895 0.60487578\n",
      " 0.60769399 0.60744774 0.61029331 0.61012915 0.60772135 0.60553245\n",
      " 0.60082631 0.60416439 0.60679107 0.60558717 0.60304257 0.60610704\n",
      " 0.60829594 0.60555981 0.60676371 0.60588815 0.60454744 0.60709204\n",
      " 0.60843275 0.6095272  0.61040276 0.61114151 0.60731093 0.60772135\n",
      " 0.61584765 0.61311152 0.6151089  0.599212   0.58996388 0.58813068\n",
      " 0.59021013 0.59089417 0.58728248 0.59601073 0.59866477 0.60148298\n",
      " 0.60060742 0.59811754 0.59809018 0.59458794 0.60074423 0.59729671\n",
      " 0.59650323 0.59705045 0.59527197 0.59562767 0.59313779 0.59382182\n",
      " 0.59073    0.59423224 0.59228959 0.59371238 0.59365766 0.59527197\n",
      " 0.59456058 0.59565503 0.59661267 0.59532669 0.59937781 0.59968644\n",
      " 0.60016626 0.60079652 0.60154802 0.60239023]\n",
      "6 day output [[0.60329705]]\n",
      "7 day input [0.6164496  0.61885739 0.6203349  0.61896684 0.61601182 0.62077268\n",
      " 0.62022546 0.61642224 0.61634016 0.6169421  0.61423334 0.62205866\n",
      " 0.61940462 0.62074532 0.62318047 0.62145671 0.62263325 0.62545146\n",
      " 0.62660063 0.62318047 0.61806392 0.62080004 0.62049907 0.61628543\n",
      " 0.61612127 0.61248222 0.61322097 0.61292    0.60922622 0.60788552\n",
      " 0.60835066 0.6018934  0.60268688 0.60079895 0.60487578 0.60769399\n",
      " 0.60744774 0.61029331 0.61012915 0.60772135 0.60553245 0.60082631\n",
      " 0.60416439 0.60679107 0.60558717 0.60304257 0.60610704 0.60829594\n",
      " 0.60555981 0.60676371 0.60588815 0.60454744 0.60709204 0.60843275\n",
      " 0.6095272  0.61040276 0.61114151 0.60731093 0.60772135 0.61584765\n",
      " 0.61311152 0.6151089  0.599212   0.58996388 0.58813068 0.59021013\n",
      " 0.59089417 0.58728248 0.59601073 0.59866477 0.60148298 0.60060742\n",
      " 0.59811754 0.59809018 0.59458794 0.60074423 0.59729671 0.59650323\n",
      " 0.59705045 0.59527197 0.59562767 0.59313779 0.59382182 0.59073\n",
      " 0.59423224 0.59228959 0.59371238 0.59365766 0.59527197 0.59456058\n",
      " 0.59565503 0.59661267 0.59532669 0.59937781 0.59968644 0.60016626\n",
      " 0.60079652 0.60154802 0.60239023 0.60329705]\n",
      "7 day output [[0.604247]]\n",
      "8 day input [0.61885739 0.6203349  0.61896684 0.61601182 0.62077268 0.62022546\n",
      " 0.61642224 0.61634016 0.6169421  0.61423334 0.62205866 0.61940462\n",
      " 0.62074532 0.62318047 0.62145671 0.62263325 0.62545146 0.62660063\n",
      " 0.62318047 0.61806392 0.62080004 0.62049907 0.61628543 0.61612127\n",
      " 0.61248222 0.61322097 0.61292    0.60922622 0.60788552 0.60835066\n",
      " 0.6018934  0.60268688 0.60079895 0.60487578 0.60769399 0.60744774\n",
      " 0.61029331 0.61012915 0.60772135 0.60553245 0.60082631 0.60416439\n",
      " 0.60679107 0.60558717 0.60304257 0.60610704 0.60829594 0.60555981\n",
      " 0.60676371 0.60588815 0.60454744 0.60709204 0.60843275 0.6095272\n",
      " 0.61040276 0.61114151 0.60731093 0.60772135 0.61584765 0.61311152\n",
      " 0.6151089  0.599212   0.58996388 0.58813068 0.59021013 0.59089417\n",
      " 0.58728248 0.59601073 0.59866477 0.60148298 0.60060742 0.59811754\n",
      " 0.59809018 0.59458794 0.60074423 0.59729671 0.59650323 0.59705045\n",
      " 0.59527197 0.59562767 0.59313779 0.59382182 0.59073    0.59423224\n",
      " 0.59228959 0.59371238 0.59365766 0.59527197 0.59456058 0.59565503\n",
      " 0.59661267 0.59532669 0.59937781 0.59968644 0.60016626 0.60079652\n",
      " 0.60154802 0.60239023 0.60329705 0.60424697]\n",
      "8 day output [[0.60522497]]\n",
      "9 day input [0.6203349  0.61896684 0.61601182 0.62077268 0.62022546 0.61642224\n",
      " 0.61634016 0.6169421  0.61423334 0.62205866 0.61940462 0.62074532\n",
      " 0.62318047 0.62145671 0.62263325 0.62545146 0.62660063 0.62318047\n",
      " 0.61806392 0.62080004 0.62049907 0.61628543 0.61612127 0.61248222\n",
      " 0.61322097 0.61292    0.60922622 0.60788552 0.60835066 0.6018934\n",
      " 0.60268688 0.60079895 0.60487578 0.60769399 0.60744774 0.61029331\n",
      " 0.61012915 0.60772135 0.60553245 0.60082631 0.60416439 0.60679107\n",
      " 0.60558717 0.60304257 0.60610704 0.60829594 0.60555981 0.60676371\n",
      " 0.60588815 0.60454744 0.60709204 0.60843275 0.6095272  0.61040276\n",
      " 0.61114151 0.60731093 0.60772135 0.61584765 0.61311152 0.6151089\n",
      " 0.599212   0.58996388 0.58813068 0.59021013 0.59089417 0.58728248\n",
      " 0.59601073 0.59866477 0.60148298 0.60060742 0.59811754 0.59809018\n",
      " 0.59458794 0.60074423 0.59729671 0.59650323 0.59705045 0.59527197\n",
      " 0.59562767 0.59313779 0.59382182 0.59073    0.59423224 0.59228959\n",
      " 0.59371238 0.59365766 0.59527197 0.59456058 0.59565503 0.59661267\n",
      " 0.59532669 0.59937781 0.59968644 0.60016626 0.60079652 0.60154802\n",
      " 0.60239023 0.60329705 0.60424697 0.60522497]\n",
      "9 day output [[0.60622036]]\n",
      "[[0.5993778109550476], [0.5996864438056946], [0.6001662611961365], [0.6007965207099915], [0.6015480160713196], [0.6023902297019958], [0.6032970547676086], [0.604246973991394], [0.6052249670028687], [0.6062203645706177]]\n"
     ]
    }
   ],
   "source": [
    "#predictions for next 10 minutes\n",
    "from numpy import array\n",
    "min_output=[]\n",
    "n_steps=100\n",
    "i=0\n",
    "while(i<10):\n",
    "  if(len(temp_input)>100):\n",
    "    x_input=np.array(temp_input[1:])\n",
    "    print(\"{} day input {}\".format(i,x_input))\n",
    "    x_input=x_input.reshape(1,-1)\n",
    "    x_input=x_input.reshape((1,n_steps,1))\n",
    "    yhat = model1.predict(x_input,verbose=0)\n",
    "    print(\"{} day output {}\".format(i,yhat))\n",
    "    temp_input.extend(yhat[0].tolist())\n",
    "    temp_input=temp_input[1:]\n",
    "    min_output.extend(yhat.tolist())\n",
    "    i=i+1\n",
    "  else:\n",
    "    x_input = x_input.reshape((1,n_steps,1))\n",
    "    yhat = model1.predict(x_input,verbose=0)\n",
    "    print(yhat[0])\n",
    "    temp_input.extend(yhat[0].tolist())\n",
    "    print(len(temp_input))\n",
    "    min_output.extend(yhat.tolist())\n",
    "    i=i+1\n",
    "\n",
    "print(min_output)"
   ]
  },
  {
   "cell_type": "code",
   "execution_count": 64,
   "metadata": {
    "id": "JADLb2BRqLuB"
   },
   "outputs": [],
   "source": [
    "min_new=np.arange(1,101)\n",
    "min_pred=np.arange(101,111)"
   ]
  },
  {
   "cell_type": "code",
   "execution_count": 65,
   "metadata": {
    "id": "HvyzjJFoqQ5H"
   },
   "outputs": [
    {
     "data": {
      "text/plain": [
       "22805"
      ]
     },
     "execution_count": 65,
     "metadata": {},
     "output_type": "execute_result"
    }
   ],
   "source": [
    "len(df5)"
   ]
  },
  {
   "cell_type": "code",
   "execution_count": 66,
   "metadata": {
    "id": "RDFT8ue4qTGG"
   },
   "outputs": [],
   "source": [
    "df6=df5.tolist()\n",
    "df6.extend(min_output)"
   ]
  },
  {
   "cell_type": "code",
   "execution_count": 67,
   "metadata": {
    "id": "GnbZShlAqYap"
   },
   "outputs": [
    {
     "data": {
      "text/plain": [
       "<matplotlib.legend.Legend at 0x23f3e8a1610>"
      ]
     },
     "execution_count": 67,
     "metadata": {},
     "output_type": "execute_result"
    },
    {
     "data": {
      "image/png": "[encoded data removed]",
      "text/plain": [
       "<Figure size 1152x720 with 1 Axes>"
      ]
     },
     "metadata": {},
     "output_type": "display_data"
    }
   ],
   "source": [
    "plt.figure(figsize=(16,10))\n",
    "plt.plot(min_new,scaler.inverse_transform(df5[22705:]))\n",
    "plt.plot(min_pred,scaler.inverse_transform(min_output))\n",
    "plt.title('1 Minute Prediction')\n",
    "plt.xlabel('Date',fontsize=18)\n",
    "plt.ylabel('Close Price',fontsize=18)\n",
    "plt.legend(['Actual Price','10 Minutes Predictions'], loc='upper left')"
   ]
  },
  {
   "cell_type": "markdown",
   "metadata": {
    "id": "uov_zON5mf0t"
   },
   "source": []
  },
  {
   "cell_type": "code",
   "execution_count": 68,
   "metadata": {
    "id": "dlUEnvT5qdHs"
   },
   "outputs": [
    {
     "data": {
      "text/plain": [
       "[[0.5993778109550476],\n",
       " [0.5996864438056946],\n",
       " [0.6001662611961365],\n",
       " [0.6007965207099915],\n",
       " [0.6015480160713196],\n",
       " [0.6023902297019958],\n",
       " [0.6032970547676086],\n",
       " [0.604246973991394],\n",
       " [0.6052249670028687],\n",
       " [0.6062203645706177]]"
      ]
     },
     "execution_count": 68,
     "metadata": {},
     "output_type": "execute_result"
    }
   ],
   "source": [
    "min_output"
   ]
  },
  {
   "cell_type": "code",
   "execution_count": null,
   "metadata": {},
   "outputs": [],
   "source": []
  }
 ],
 "metadata": {
  "colab": {
   "collapsed_sections": [],
   "name": "Project_LSTM_Model1.ipynb",
   "provenance": []
  },
  "kernelspec": {
   "display_name": "Python 3",
   "language": "python",
   "name": "python3"
  },
  "language_info": {
   "codemirror_mode": {
    "name": "ipython",
    "version": 3
   },
   "file_extension": ".py",
   "mimetype": "text/x-python",
   "name": "python",
   "nbconvert_exporter": "python",
   "pygments_lexer": "ipython3",
   "version": "3.8.5"
  }
 },
 "nbformat": 4,
 "nbformat_minor": 1
}
